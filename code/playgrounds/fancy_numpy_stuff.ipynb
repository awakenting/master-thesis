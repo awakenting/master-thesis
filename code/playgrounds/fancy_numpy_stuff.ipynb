{
 "cells": [
  {
   "cell_type": "code",
   "execution_count": 1,
   "metadata": {
    "collapsed": true
   },
   "outputs": [],
   "source": [
    "import numpy as np"
   ]
  },
  {
   "cell_type": "markdown",
   "metadata": {},
   "source": [
    "## How to take the k biggest values along a given axis for a given matrix:"
   ]
  },
  {
   "cell_type": "code",
   "execution_count": 28,
   "metadata": {},
   "outputs": [
    {
     "name": "stdout",
     "output_type": "stream",
     "text": [
      "[[ 0.27659282  0.22354457  0.52403525  0.04163469  0.24928904]\n",
      " [ 0.3367763   0.17199404  0.01614703  0.19170751  0.30358093]\n",
      " [ 0.01378044  0.00509645  0.83467048  0.66864518  0.51291153]\n",
      " [ 0.41099473  0.55436658  0.6980684   0.1762442   0.96674766]\n",
      " [ 0.55626625  0.99798986  0.03897142  0.46527371  0.19898507]]\n",
      "[[2 0 4 1 3]\n",
      " [0 4 3 1 2]\n",
      " [2 3 4 0 1]\n",
      " [4 2 1 0 3]\n",
      " [1 0 3 4 2]]\n",
      "[[0]\n",
      " [1]\n",
      " [2]\n",
      " [3]\n",
      " [4]]\n",
      "[[ 0.52403525  0.27659282  0.24928904]\n",
      " [ 0.3367763   0.30358093  0.19170751]\n",
      " [ 0.83467048  0.66864518  0.51291153]\n",
      " [ 0.96674766  0.6980684   0.55436658]\n",
      " [ 0.99798986  0.55626625  0.46527371]]\n"
     ]
    }
   ],
   "source": [
    "x = np.random.rand(5, 5)\n",
    "print(x)\n",
    "a = np.argsort(x, axis=1)\n",
    "# argsort gives ascending order so we have to reverse the order\n",
    "a = a[:, -1::-1]\n",
    "print(a)\n",
    "# a contains only the indices along the second axis (the columns) but for integer indexing we also need the row indices:\n",
    "# they will be broadcasted so we need it to be 2D array\n",
    "rows = np.arange(5)[:, np.newaxis]\n",
    "print(rows)\n",
    "print(x[rows, a[:, 0:3]])"
   ]
  }
 ],
 "metadata": {
  "kernelspec": {
   "display_name": "Python [conda root]",
   "language": "python",
   "name": "conda-root-py"
  },
  "language_info": {
   "codemirror_mode": {
    "name": "ipython",
    "version": 3
   },
   "file_extension": ".py",
   "mimetype": "text/x-python",
   "name": "python",
   "nbconvert_exporter": "python",
   "pygments_lexer": "ipython3",
   "version": "3.6.3"
  },
  "varInspector": {
   "cols": {
    "lenName": 16,
    "lenType": 16,
    "lenVar": 40
   },
   "kernels_config": {
    "python": {
     "delete_cmd_postfix": "",
     "delete_cmd_prefix": "del ",
     "library": "var_list.py",
     "varRefreshCmd": "print(var_dic_list())"
    },
    "r": {
     "delete_cmd_postfix": ") ",
     "delete_cmd_prefix": "rm(",
     "library": "var_list.r",
     "varRefreshCmd": "cat(var_dic_list()) "
    }
   },
   "types_to_exclude": [
    "module",
    "function",
    "builtin_function_or_method",
    "instance",
    "_Feature"
   ],
   "window_display": false
  }
 },
 "nbformat": 4,
 "nbformat_minor": 2
}
