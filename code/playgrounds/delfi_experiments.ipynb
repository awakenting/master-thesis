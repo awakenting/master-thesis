{
 "cells": [
  {
   "cell_type": "code",
   "execution_count": 1,
   "metadata": {},
   "outputs": [
    {
     "name": "stdout",
     "output_type": "stream",
     "text": [
      "0.4.1\n"
     ]
    }
   ],
   "source": [
    "import numpy as np\n",
    "import delfi\n",
    "print(delfi.__version__)"
   ]
  },
  {
   "cell_type": "code",
   "execution_count": 2,
   "metadata": {
    "collapsed": true
   },
   "outputs": [],
   "source": [
    "from delfi.simulator import GaussMixture\n",
    "\n",
    "n_params = 1\n",
    "m = GaussMixture(dim=n_params)"
   ]
  },
  {
   "cell_type": "code",
   "execution_count": 3,
   "metadata": {
    "collapsed": true
   },
   "outputs": [],
   "source": [
    "from delfi.simulator.BaseSimulator import BaseSimulator\n",
    "\n",
    "class MyGaussMixture(BaseSimulator):\n",
    "    def __init__(self, dim=1, noise_cov=[1.0, 0.1], seed=None):\n",
    "        \"\"\"Gaussian Mixture simulator\n",
    "        Toy model that draws data from a mixture distribution with 2 components\n",
    "        that have mean theta and fixed noise.\n",
    "        Parameters\n",
    "        ----------\n",
    "        dim : int\n",
    "            Number of dimensions of parameters\n",
    "        noise_cov : list\n",
    "            Covariance of noise on observations\n",
    "        seed : int or None\n",
    "            If set, randomness is seeded\n",
    "        \"\"\"\n",
    "        super().__init__(dim_param=dim, seed=seed)\n",
    "        self.a = [0.5, 0.5]  # mixture weights\n",
    "        self.noise_cov = [nc*np.eye(dim) for nc in noise_cov]\n",
    "\n",
    "    @copy_ancestor_docstring\n",
    "    def gen_single(self, param):\n",
    "        # See BaseSimulator for docstring\n",
    "        param = np.asarray(param).reshape(-1)\n",
    "        assert param.ndim == 1\n",
    "        assert param.shape[0] == self.dim_param\n",
    "\n",
    "        samples = dd.MoG(a=self.a, ms=[param for p in range(2)],\n",
    "                        Ss=self.noise_cov, seed=self.gen_newseed()).gen(2)\n",
    "\n",
    "        return {'data': samples.reshape(-1)}"
   ]
  },
  {
   "cell_type": "code",
   "execution_count": 4,
   "metadata": {
    "collapsed": true
   },
   "outputs": [],
   "source": [
    "n_params = 1\n",
    "mygm = MyGaussMixture(dim=n_params)"
   ]
  },
  {
   "cell_type": "code",
   "execution_count": 5,
   "metadata": {
    "collapsed": true
   },
   "outputs": [],
   "source": [
    "import delfi.distribution as dd\n",
    "import numpy as np\n",
    "\n",
    "p = dd.Uniform(lower=[-10], upper=[10])"
   ]
  },
  {
   "cell_type": "code",
   "execution_count": 6,
   "metadata": {
    "collapsed": true
   },
   "outputs": [],
   "source": [
    "from delfi.summarystats import Identity\n",
    "\n",
    "s = Identity()"
   ]
  },
  {
   "cell_type": "code",
   "execution_count": 7,
   "metadata": {
    "collapsed": true
   },
   "outputs": [],
   "source": [
    "from delfi.generator import Default\n",
    "\n",
    "g = Default(model=mygm, prior=p, summary=s)"
   ]
  },
  {
   "cell_type": "code",
   "execution_count": 8,
   "metadata": {},
   "outputs": [
    {
     "data": {
      "text/plain": [
       "A Jupyter Widget"
      ]
     },
     "metadata": {},
     "output_type": "display_data"
    },
    {
     "name": "stdout",
     "output_type": "stream",
     "text": [
      "\n"
     ]
    },
    {
     "data": {
      "text/plain": [
       "A Jupyter Widget"
      ]
     },
     "metadata": {},
     "output_type": "display_data"
    },
    {
     "name": "stdout",
     "output_type": "stream",
     "text": [
      "\n"
     ]
    }
   ],
   "source": [
    "params, stats = g.gen(500)"
   ]
  },
  {
   "cell_type": "code",
   "execution_count": 9,
   "metadata": {
    "collapsed": true
   },
   "outputs": [],
   "source": [
    "import matplotlib.pyplot as plt\n",
    "%matplotlib inline"
   ]
  },
  {
   "cell_type": "code",
   "execution_count": 10,
   "metadata": {},
   "outputs": [
    {
     "data": {
      "image/png": "[encoded data removed]",
      "text/plain": [
       "<matplotlib.figure.Figure at 0x7f693c6a2438>"
      ]
     },
     "metadata": {},
     "output_type": "display_data"
    }
   ],
   "source": [
    "plt.plot(stats, params, '.')\n",
    "plt.ylabel(r'$\\theta$')\n",
    "plt.xlabel(r'x');"
   ]
  },
  {
   "cell_type": "code",
   "execution_count": 11,
   "metadata": {},
   "outputs": [
    {
     "data": {
      "text/plain": [
       "(500, 2)"
      ]
     },
     "execution_count": 11,
     "metadata": {},
     "output_type": "execute_result"
    }
   ],
   "source": [
    "stats.shape"
   ]
  },
  {
   "cell_type": "code",
   "execution_count": 36,
   "metadata": {},
   "outputs": [
    {
     "data": {
      "text/plain": [
       "A Jupyter Widget"
      ]
     },
     "metadata": {},
     "output_type": "display_data"
    },
    {
     "name": "stdout",
     "output_type": "stream",
     "text": [
      "\n"
     ]
    },
    {
     "data": {
      "text/plain": [
       "A Jupyter Widget"
      ]
     },
     "metadata": {},
     "output_type": "display_data"
    },
    {
     "name": "stdout",
     "output_type": "stream",
     "text": [
      "\n"
     ]
    }
   ],
   "source": [
    "from delfi.inference import Basic\n",
    "\n",
    "inf_basic = Basic(generator=g, n_components=2, n_hiddens=[10], seed=30)"
   ]
  },
  {
   "cell_type": "code",
   "execution_count": 37,
   "metadata": {},
   "outputs": [
    {
     "data": {
      "text/plain": [
       "A Jupyter Widget"
      ]
     },
     "metadata": {},
     "output_type": "display_data"
    },
    {
     "name": "stdout",
     "output_type": "stream",
     "text": [
      "\n"
     ]
    },
    {
     "data": {
      "text/plain": [
       "A Jupyter Widget"
      ]
     },
     "metadata": {},
     "output_type": "display_data"
    },
    {
     "name": "stdout",
     "output_type": "stream",
     "text": [
      "\n"
     ]
    },
    {
     "data": {
      "text/plain": [
       "A Jupyter Widget"
      ]
     },
     "metadata": {},
     "output_type": "display_data"
    },
    {
     "name": "stdout",
     "output_type": "stream",
     "text": [
      "\n"
     ]
    }
   ],
   "source": [
    "log, train_data, _ = inf_basic.run(n_train=5000)"
   ]
  },
  {
   "cell_type": "code",
   "execution_count": 38,
   "metadata": {},
   "outputs": [
    {
     "data": {
      "text/plain": [
       "(0, 8)"
      ]
     },
     "execution_count": 38,
     "metadata": {},
     "output_type": "execute_result"
    },
    {
     "data": {
      "image/png": "[encoded data removed]",
      "text/plain": [
       "<matplotlib.figure.Figure at 0x7f691a1b02b0>"
      ]
     },
     "metadata": {},
     "output_type": "display_data"
    }
   ],
   "source": [
    "plt.plot(log['loss'])\n",
    "plt.xlabel('Iteration')\n",
    "plt.ylabel('Loss')\n",
    "plt.ylim([0, 8])"
   ]
  },
  {
   "cell_type": "code",
   "execution_count": 39,
   "metadata": {
    "collapsed": true
   },
   "outputs": [],
   "source": [
    "xo = np.array([[0., 0.01]])\n",
    "posterior = inf_basic.predict(xo)"
   ]
  },
  {
   "cell_type": "code",
   "execution_count": 35,
   "metadata": {},
   "outputs": [
    {
     "name": "stdout",
     "output_type": "stream",
     "text": [
      "component 1: mixture weight = 0.84; mean = 0.05; variance = 0.24\n",
      "component 2: mixture weight = 0.16; mean = -0.29; variance = 0.23\n"
     ]
    }
   ],
   "source": [
    "for k in range(2):\n",
    "    print(r'component {}: mixture weight = {:.2f}; mean = {:.2f}; variance = {:.2f}'.format(\n",
    "        k+1, posterior.a[k], posterior.xs[k].m[0], posterior.xs[k].S[0][0]))"
   ]
  },
  {
   "cell_type": "code",
   "execution_count": 40,
   "metadata": {},
   "outputs": [
    {
     "name": "stdout",
     "output_type": "stream",
     "text": [
      "component 1: mixture weight = 0.99; mean = 0.05; variance = 0.24\n",
      "component 2: mixture weight = 0.01; mean = -0.89; variance = 0.36\n"
     ]
    }
   ],
   "source": [
    "for k in range(2):\n",
    "    print(r'component {}: mixture weight = {:.2f}; mean = {:.2f}; variance = {:.2f}'.format(\n",
    "        k+1, posterior.a[k], posterior.xs[k].m[0], posterior.xs[k].S[0][0]))"
   ]
  },
  {
   "cell_type": "code",
   "execution_count": 28,
   "metadata": {},
   "outputs": [
    {
     "data": {
      "image/png": "[encoded data removed]",
      "text/plain": [
       "<matplotlib.figure.Figure at 0x7f6919486c50>"
      ]
     },
     "metadata": {},
     "output_type": "display_data"
    }
   ],
   "source": [
    "true_posterior = dd.MoG(a=[0.5, 0.5], ms=[[0.], [0.]], Ss=[[[1.0]], [[0.1]]])\n",
    "plt.plot(posterior.eval(np.arange(-5.0, 5.0, 0.01).reshape(-1,1), log=False), '-b')\n",
    "plt.plot(true_posterior.eval(np.arange(-5.0, 5.0, 0.01).reshape(-1,1), log=False), '-r')\n",
    "plt.legend(['predicted posterior', 'true posterior'], frameon=False)\n",
    "plt.axis('off');"
   ]
  },
  {
   "cell_type": "markdown",
   "metadata": {},
   "source": [
    "## SNPE"
   ]
  },
  {
   "cell_type": "code",
   "execution_count": 43,
   "metadata": {},
   "outputs": [
    {
     "data": {
      "text/plain": [
       "A Jupyter Widget"
      ]
     },
     "metadata": {},
     "output_type": "display_data"
    },
    {
     "name": "stdout",
     "output_type": "stream",
     "text": [
      "\n"
     ]
    },
    {
     "data": {
      "text/plain": [
       "A Jupyter Widget"
      ]
     },
     "metadata": {},
     "output_type": "display_data"
    },
    {
     "name": "stdout",
     "output_type": "stream",
     "text": [
      "\n"
     ]
    },
    {
     "data": {
      "text/plain": [
       "A Jupyter Widget"
      ]
     },
     "metadata": {},
     "output_type": "display_data"
    },
    {
     "name": "stdout",
     "output_type": "stream",
     "text": [
      "\n"
     ]
    },
    {
     "data": {
      "text/plain": [
       "A Jupyter Widget"
      ]
     },
     "metadata": {},
     "output_type": "display_data"
    },
    {
     "name": "stdout",
     "output_type": "stream",
     "text": [
      "\n"
     ]
    },
    {
     "data": {
      "text/plain": [
       "A Jupyter Widget"
      ]
     },
     "metadata": {},
     "output_type": "display_data"
    },
    {
     "name": "stdout",
     "output_type": "stream",
     "text": [
      "\n"
     ]
    },
    {
     "data": {
      "text/plain": [
       "A Jupyter Widget"
      ]
     },
     "metadata": {},
     "output_type": "display_data"
    },
    {
     "name": "stdout",
     "output_type": "stream",
     "text": [
      "\n"
     ]
    },
    {
     "data": {
      "text/plain": [
       "A Jupyter Widget"
      ]
     },
     "metadata": {},
     "output_type": "display_data"
    },
    {
     "name": "stdout",
     "output_type": "stream",
     "text": [
      "\n"
     ]
    },
    {
     "data": {
      "text/plain": [
       "A Jupyter Widget"
      ]
     },
     "metadata": {},
     "output_type": "display_data"
    },
    {
     "name": "stdout",
     "output_type": "stream",
     "text": [
      "\n"
     ]
    }
   ],
   "source": [
    "from delfi.inference import SNPE\n",
    "\n",
    "xo = np.array([[0., 0.001]])\n",
    "inf_snpe = SNPE(generator=g, n_components=2, n_hiddens=[10], obs=xo, seed=45)\n",
    "logs, tds, posteriors = inf_snpe.run(n_train=[2000, 1000], n_rounds=2)\n",
    "posterior = posteriors[-1]"
   ]
  },
  {
   "cell_type": "code",
   "execution_count": 44,
   "metadata": {},
   "outputs": [
    {
     "name": "stdout",
     "output_type": "stream",
     "text": [
      "component 1: mixture weight = 0.93; mean = -0.11; variance = 0.18\n",
      "component 2: mixture weight = 0.07; mean = 0.62; variance = 0.46\n"
     ]
    },
    {
     "data": {
      "image/png": "[encoded data removed]",
      "text/plain": [
       "<matplotlib.figure.Figure at 0x7f6918d06ba8>"
      ]
     },
     "metadata": {},
     "output_type": "display_data"
    }
   ],
   "source": [
    "for k in range(2):\n",
    "    print(r'component {}: mixture weight = {:.2f}; mean = {:.2f}; variance = {:.2f}'.format(\n",
    "        k+1, posterior.a[k], posterior.xs[k].m[0], posterior.xs[k].S[0][0]))\n",
    "\n",
    "true_posterior = dd.MoG(a=[0.5, 0.5], ms=[[0.], [0.]], Ss=[[[1.0]], [[0.1]]])\n",
    "plt.plot(posterior.eval(np.arange(-5.0, 5.0, 0.01).reshape(-1,1), log=False), '-b')\n",
    "plt.plot(true_posterior.eval(np.arange(-5.0, 5.0, 0.01).reshape(-1,1), log=False), '-r')\n",
    "plt.legend(['predicted posterior', 'true posterior'], frameon=False)\n",
    "plt.axis('off');"
   ]
  },
  {
   "cell_type": "code",
   "execution_count": 42,
   "metadata": {},
   "outputs": [
    {
     "name": "stdout",
     "output_type": "stream",
     "text": [
      "component 1: mixture weight = 0.79; mean = 0.01; variance = 0.17\n",
      "component 2: mixture weight = 0.21; mean = 0.36; variance = 0.48\n"
     ]
    },
    {
     "data": {
      "image/png": "[encoded data removed]",
      "text/plain": [
       "<matplotlib.figure.Figure at 0x7f6918bc21d0>"
      ]
     },
     "metadata": {},
     "output_type": "display_data"
    }
   ],
   "source": [
    "for k in range(2):\n",
    "    print(r'component {}: mixture weight = {:.2f}; mean = {:.2f}; variance = {:.2f}'.format(\n",
    "        k+1, posterior.a[k], posterior.xs[k].m[0], posterior.xs[k].S[0][0]))\n",
    "\n",
    "true_posterior = dd.MoG(a=[0.5, 0.5], ms=[[0.], [0.]], Ss=[[[1.0]], [[0.1]]])\n",
    "plt.plot(posterior.eval(np.arange(-5.0, 5.0, 0.01).reshape(-1,1), log=False), '-b')\n",
    "plt.plot(true_posterior.eval(np.arange(-5.0, 5.0, 0.01).reshape(-1,1), log=False), '-r')\n",
    "plt.legend(['predicted posterior', 'true posterior'], frameon=False)\n",
    "plt.axis('off');"
   ]
  },
  {
   "cell_type": "code",
   "execution_count": 20,
   "metadata": {
    "collapsed": true
   },
   "outputs": [],
   "source": [
    "from delfi.simulator.BaseSimulator import BaseSimulator\n",
    "import models as md\n",
    "\n",
    "class GaussMixture(BaseSimulator):\n",
    "    def __init__(self, dim=1, noise_cov=[1.0, 0.1], seed=None):\n",
    "        \"\"\"Gaussian Mixture simulator\n",
    "        Toy model that draws data from a mixture distribution with 2 components\n",
    "        that have mean theta and fixed noise.\n",
    "        Parameters\n",
    "        ----------\n",
    "        dim : int\n",
    "            Number of dimensions of parameters\n",
    "        noise_cov : list\n",
    "            Covariance of noise on observations\n",
    "        seed : int or None\n",
    "            If set, randomness is seeded\n",
    "        \"\"\"\n",
    "        super().__init__(dim_param=dim, seed=seed)\n",
    "        self.a = [0.5, 0.5]  # mixture weights\n",
    "        self.noise_cov = [nc*np.eye(dim) for nc in noise_cov]\n",
    "\n",
    "    @copy_ancestor_docstring\n",
    "    def gen_single(self, param):\n",
    "        # See BaseSimulator for docstring\n",
    "        param = np.asarray(param).reshape(-1)\n",
    "        assert param.ndim == 1\n",
    "        assert param.shape[0] == self.dim_param\n",
    "\n",
    "        sample = dd.MoG(a=self.a, ms=[param for p in range(2)],\n",
    "                        Ss=self.noise_cov, seed=self.gen_newseed()).gen(1)\n",
    "\n",
    "        return {'data': sample.reshape(-1)}\n",
    "    \n",
    "class LIF(BaseSimulator):\n",
    "    def __init__(self, dim=1, seed=None, fixed_params=None):\n",
    "        \"\"\"Leaky Integrate-and-Fire simulator\n",
    "        Integrates input until a given threshold is reached at which we\n",
    "        define the response time.\n",
    "        Parameters\n",
    "        ----------\n",
    "        dim : int\n",
    "            Number of dimensions of parameters\n",
    "        noise_cov : list\n",
    "            Covariance of noise on observations\n",
    "        seed : int or None\n",
    "            If set, randomness is seeded\n",
    "        \"\"\"\n",
    "        super().__init__(dim_param=dim, seed=seed)\n",
    "        self.fixed_params = fixed_params\n",
    "\n",
    "    @copy_ancestor_docstring\n",
    "    def gen_single(self, param):\n",
    "        # See BaseSimulator for docstring\n",
    "        param = np.asarray(param).reshape(-1)\n",
    "        assert param.ndim == 1\n",
    "        assert param.shape[0] == self.dim_param\n",
    "\n",
    "        model_params = self.fixed_params.copy()\n",
    "        model_params['m'] = param\n",
    "        nruns = 50\n",
    "        rstims = np.zeros((1, nruns))\n",
    "        lvs = np.zeros((1, nruns))\n",
    "        for i in np.arange(nruns):\n",
    "            rstims[0, i], rdist, reaction_time, lvs[0, i], stim_size, speed, rtime_to_coll = md.calc_response_lif(params)\n",
    "\n",
    "        data = np.concatenate((rstims, lvs), axis=1)\n",
    "        return {'data': data}"
   ]
  },
  {
   "cell_type": "code",
   "execution_count": 21,
   "metadata": {
    "collapsed": true
   },
   "outputs": [],
   "source": [
    "total_time = 5\n",
    "dt = 0.001\n",
    "params = {'tau_m': 0.023,\n",
    "          'e_l': -0.079,\n",
    "          'r_m': 10*1e6,\n",
    "          'v_t': -0.061,\n",
    "          'init_vm_std': 0.000,\n",
    "          'vt_std': 0.000,\n",
    "          'dt': dt,\n",
    "          'total_time': total_time,\n",
    "          'init_period': 0,\n",
    "          'noise_std': 5*1e-3,\n",
    "          'n_timepoints': int(total_time/dt),\n",
    "          'm': 5,\n",
    "          'b': 0,\n",
    "          'lv_min': 0.1,\n",
    "          'lv_max': 1.2,\n",
    "          'l_min': 10,\n",
    "          'l_max': 25,\n",
    "          'init_distance': 50,\n",
    "          'cutoff_angle': 180}\n",
    "\n",
    "lifm = LIF(fixed_params=params)"
   ]
  },
  {
   "cell_type": "code",
   "execution_count": 22,
   "metadata": {
    "collapsed": true
   },
   "outputs": [],
   "source": [
    "p = dd.Uniform(lower=[1], upper=[8])"
   ]
  },
  {
   "cell_type": "code",
   "execution_count": 23,
   "metadata": {
    "collapsed": true
   },
   "outputs": [],
   "source": [
    "g = Default(model=lifm, prior=p, summary=s)"
   ]
  },
  {
   "cell_type": "code",
   "execution_count": 24,
   "metadata": {
    "scrolled": true
   },
   "outputs": [
    {
     "data": {
      "text/plain": [
       "A Jupyter Widget"
      ]
     },
     "metadata": {},
     "output_type": "display_data"
    },
    {
     "name": "stdout",
     "output_type": "stream",
     "text": [
      "\n"
     ]
    },
    {
     "data": {
      "text/plain": [
       "A Jupyter Widget"
      ]
     },
     "metadata": {},
     "output_type": "display_data"
    },
    {
     "name": "stdout",
     "output_type": "stream",
     "text": [
      "\n"
     ]
    }
   ],
   "source": [
    "gparams, stats = g.gen(500)"
   ]
  },
  {
   "cell_type": "code",
   "execution_count": 25,
   "metadata": {},
   "outputs": [
    {
     "data": {
      "text/plain": [
       "(500, 100)"
      ]
     },
     "execution_count": 25,
     "metadata": {},
     "output_type": "execute_result"
    }
   ],
   "source": [
    "stats.shape"
   ]
  },
  {
   "cell_type": "code",
   "execution_count": 29,
   "metadata": {},
   "outputs": [
    {
     "data": {
      "text/plain": [
       "Text(0.5,1,'m = [1.43679121]')"
      ]
     },
     "execution_count": 29,
     "metadata": {},
     "output_type": "execute_result"
    },
    {
     "data": {
      "image/png": "[encoded data removed]",
      "text/plain": [
       "<matplotlib.figure.Figure at 0x7fae88296940>"
      ]
     },
     "metadata": {},
     "output_type": "display_data"
    }
   ],
   "source": [
    "plt.plot(stats[0, 50:], stats[0, 0:50], '.')\n",
    "plt.ylabel(r'response angle')\n",
    "plt.xlabel(r'lv')\n",
    "plt.title('m = ' + str(gparams[0]))"
   ]
  },
  {
   "cell_type": "code",
   "execution_count": 36,
   "metadata": {},
   "outputs": [
    {
     "data": {
      "text/plain": [
       "A Jupyter Widget"
      ]
     },
     "metadata": {},
     "output_type": "display_data"
    },
    {
     "name": "stdout",
     "output_type": "stream",
     "text": [
      "\n"
     ]
    },
    {
     "data": {
      "text/plain": [
       "A Jupyter Widget"
      ]
     },
     "metadata": {},
     "output_type": "display_data"
    },
    {
     "name": "stdout",
     "output_type": "stream",
     "text": [
      "\n"
     ]
    },
    {
     "data": {
      "text/plain": [
       "A Jupyter Widget"
      ]
     },
     "metadata": {},
     "output_type": "display_data"
    },
    {
     "name": "stdout",
     "output_type": "stream",
     "text": [
      "\n"
     ]
    },
    {
     "data": {
      "text/plain": [
       "A Jupyter Widget"
      ]
     },
     "metadata": {},
     "output_type": "display_data"
    },
    {
     "name": "stdout",
     "output_type": "stream",
     "text": [
      "\n"
     ]
    },
    {
     "data": {
      "text/plain": [
       "A Jupyter Widget"
      ]
     },
     "metadata": {},
     "output_type": "display_data"
    },
    {
     "name": "stdout",
     "output_type": "stream",
     "text": [
      "\n"
     ]
    },
    {
     "data": {
      "text/plain": [
       "A Jupyter Widget"
      ]
     },
     "metadata": {},
     "output_type": "display_data"
    },
    {
     "name": "stdout",
     "output_type": "stream",
     "text": [
      "\n"
     ]
    },
    {
     "data": {
      "text/plain": [
       "A Jupyter Widget"
      ]
     },
     "metadata": {},
     "output_type": "display_data"
    },
    {
     "name": "stdout",
     "output_type": "stream",
     "text": [
      "\n"
     ]
    },
    {
     "data": {
      "text/plain": [
       "A Jupyter Widget"
      ]
     },
     "metadata": {},
     "output_type": "display_data"
    },
    {
     "name": "stdout",
     "output_type": "stream",
     "text": [
      "\n"
     ]
    }
   ],
   "source": [
    "from delfi.inference import SNPE\n",
    "\n",
    "ostims = np.random.normal(loc=35, scale=1, size=50)\n",
    "olvs = np.random.normal(loc=0.5, scale=0.001, size=50)\n",
    "xo = np.concatenate((ostims, olvs)).reshape((1, 100))\n",
    "#xo = np.array([[35]])\n",
    "inf_snpe = SNPE(generator=g, n_components=2, n_hiddens=[10], obs=xo, seed=10)\n",
    "logs, tds, posteriors = inf_snpe.run(n_train=[200, 100], n_rounds=2)\n",
    "posterior = posteriors[-1]"
   ]
  },
  {
   "cell_type": "code",
   "execution_count": 37,
   "metadata": {},
   "outputs": [
    {
     "name": "stdout",
     "output_type": "stream",
     "text": [
      "Posterior mean for m: 1.33\n"
     ]
    },
    {
     "data": {
      "image/png": "[encoded data removed]",
      "text/plain": [
       "<matplotlib.figure.Figure at 0x7fae830a1080>"
      ]
     },
     "metadata": {},
     "output_type": "display_data"
    }
   ],
   "source": [
    "param_range = np.arange(0, 8.0, 0.01).reshape(-1,1)\n",
    "plt.plot(param_range, posterior.eval(param_range, log=False))\n",
    "post_pdf = posterior.eval(param_range, log=False)\n",
    "post_m = param_range[np.argmax(post_pdf)]\n",
    "print('Posterior mean for m: ' + str(np.max(post_m)))"
   ]
  }
 ],
 "metadata": {
  "kernelspec": {
   "display_name": "Python [conda root]",
   "language": "python",
   "name": "conda-root-py"
  },
  "language_info": {
   "codemirror_mode": {
    "name": "ipython",
    "version": 3
   },
   "file_extension": ".py",
   "mimetype": "text/x-python",
   "name": "python",
   "nbconvert_exporter": "python",
   "pygments_lexer": "ipython3",
   "version": "3.6.3"
  },
  "varInspector": {
   "cols": {
    "lenName": 16.0,
    "lenType": 16.0,
    "lenVar": 40.0
   },
   "kernels_config": {
    "python": {
     "delete_cmd_postfix": "",
     "delete_cmd_prefix": "del ",
     "library": "var_list.py",
     "varRefreshCmd": "print(var_dic_list())"
    },
    "r": {
     "delete_cmd_postfix": ") ",
     "delete_cmd_prefix": "rm(",
     "library": "var_list.r",
     "varRefreshCmd": "cat(var_dic_list()) "
    }
   },
   "types_to_exclude": [
    "module",
    "function",
    "builtin_function_or_method",
    "instance",
    "_Feature"
   ],
   "window_display": false
  }
 },
 "nbformat": 4,
 "nbformat_minor": 2
}
