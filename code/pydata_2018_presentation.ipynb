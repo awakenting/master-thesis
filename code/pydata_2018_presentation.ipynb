{
 "cells": [
  {
   "cell_type": "markdown",
   "metadata": {
    "nbpresent": {
     "id": "cedb7cbc-0ae6-435a-833e-eb2d27215df8"
    },
    "slideshow": {
     "slide_type": "slide"
    }
   },
   "source": [
    "<h1 style=\"text-align:center;\">How to scare a fish (school)</h1>"
   ]
  },
  {
   "cell_type": "markdown",
   "metadata": {
    "nbpresent": {
     "id": "cedb7cbc-0ae6-435a-833e-eb2d27215df8"
    },
    "slideshow": {
     "slide_type": "fragment"
    }
   },
   "source": [
    "<h1 style=\"text-align:center;\">with (a) Python</h1>\n",
    "<br />\n",
    "<center>\n",
    "Andrej Warkentin<br />\n",
    "@awakenting<br />\n",
    "PyData Berlin 2018<br />\n",
    "07.07.2018<br />\n",
    "</center>"
   ]
  },
  {
   "cell_type": "code",
   "execution_count": 1,
   "metadata": {
    "slideshow": {
     "slide_type": "skip"
    }
   },
   "outputs": [
    {
     "data": {
      "text/html": [
       "<style>\n",
       ".example\n",
       "{\n",
       "    float:left;\n",
       "    width: 33%;\n",
       "    height: 80%;\n",
       "    text-align: center;\n",
       "}\n",
       ".example > ul {\n",
       "    text-align: left;\n",
       "    list-style-position: inside;\n",
       "}\n",
       ".halfdiv\n",
       "{\n",
       "    float:left;\n",
       "    width: 50%;\n",
       "    height: 80%;\n",
       "    text-align: center;\n",
       "}\n",
       ".halfdiv > ul {\n",
       "    text-align: left;\n",
       "    list-style-position: inside;\n",
       "}\n",
       ".quarterdiv\n",
       "{\n",
       "    float:left;\n",
       "    width: 50%;\n",
       "    height: 50%;\n",
       "    text-align: center;\n",
       "}\n",
       ".quarterdiv > ul {\n",
       "    text-align: left;\n",
       "    list-style-position: inside;\n",
       "}\n",
       "</style>"
      ],
      "text/plain": [
       "<IPython.core.display.HTML object>"
      ]
     },
     "metadata": {},
     "output_type": "display_data"
    }
   ],
   "source": [
    "%%html\n",
    "<style>\n",
    ".example\n",
    "{\n",
    "    float:left;\n",
    "    width: 33%;\n",
    "    height: 80%;\n",
    "    text-align: center;\n",
    "}\n",
    ".example > ul {\n",
    "    text-align: left;\n",
    "    list-style-position: inside;\n",
    "}\n",
    ".halfdiv\n",
    "{\n",
    "    float:left;\n",
    "    width: 50%;\n",
    "    height: 80%;\n",
    "    text-align: center;\n",
    "}\n",
    ".halfdiv > ul {\n",
    "    text-align: left;\n",
    "    list-style-position: inside;\n",
    "}\n",
    ".quarterdiv\n",
    "{\n",
    "    float:left;\n",
    "    width: 50%;\n",
    "    height: 50%;\n",
    "    text-align: center;\n",
    "}\n",
    ".quarterdiv > ul {\n",
    "    text-align: left;\n",
    "    list-style-position: inside;\n",
    "}\n",
    "</style>"
   ]
  },
  {
   "cell_type": "markdown",
   "metadata": {
    "slideshow": {
     "slide_type": "slide"
    }
   },
   "source": [
    "## Outline\n",
    "\n",
    "- what I did\n",
    "    - neuronal model for startle responses in fish\n",
    "    - coupling of neuronal model with collective behavior model"
   ]
  },
  {
   "cell_type": "markdown",
   "metadata": {
    "slideshow": {
     "slide_type": "fragment"
    }
   },
   "source": [
    "- how I did it\n",
    "    - and with which python packages"
   ]
  },
  {
   "cell_type": "markdown",
   "metadata": {
    "slideshow": {
     "slide_type": "slide"
    }
   },
   "source": [
    "<h2 style=\"text-align:center;\">A neuronal model for visually evoked startle responses in schooling fish</h2>"
   ]
  },
  {
   "cell_type": "markdown",
   "metadata": {
    "slideshow": {
     "slide_type": "slide"
    }
   },
   "source": [
    "<h2 style=\"text-align:center;\">Why fish?</h2>\n",
    "<br />\n",
    "<br />\n",
    "<br />\n",
    "<span class=\"fragment fade-in\" data-fragment-index=\"1\">\n",
    "    <center>\n",
    "        <div class=\"example\">\n",
    "            <img src=\"../figures/fish_school_predator.jpg\">\n",
    "        </div>\n",
    "    </center>\n",
    "</span>\n",
    "<span class=\"fragment fade-in\" data-fragment-index=\"2\">\n",
    "    <center>\n",
    "        <div class=\"example\" data-fragment-index=\"2\">\n",
    "            <img src=\"../figures/zebrafish_wholebrain.jpg\">\n",
    "            Naumann et al. 2016\n",
    "        </div>\n",
    "    </center>\n",
    "</span>\n",
    "<span class=\"fragment fade-in\" data-fragment-index=\"3\">\n",
    "    <center>\n",
    "        <div class=\"example\">\n",
    "            <img src=\"../figures/zebrafish_projectome.jpg\">\n",
    "            Hildebrand et al. 2017\n",
    "        </div>\n",
    "    </center>\n",
    "</span>\n"
   ]
  },
  {
   "cell_type": "markdown",
   "metadata": {
    "slideshow": {
     "slide_type": "slide"
    }
   },
   "source": [
    "<h2 style=\"text-align:center;\">Startle Response?</h2>\n",
    "<span class=\"fragment fade-in\" data-fragment-index=\"1\">\n",
    "    <center>\n",
    "        <img src=\"../figures/cstart.jpg\">\n",
    "        Tytell and Lauder 2008\n",
    "    </center>\n",
    "</span>"
   ]
  },
  {
   "cell_type": "markdown",
   "metadata": {
    "slideshow": {
     "slide_type": "subslide"
    }
   },
   "source": [
    "<h2 style=\"text-align:center;\">Startle response of a cat to a model predator:</h2>\n",
    "<center>\n",
    "    <video controls data-autoplay src=\"../videos/cat_cucumber.mp4\"/>\n",
    "</center>\n",
    "<center>\n",
    "    source: https://redd.it/3cmrj5\n",
    "</center>"
   ]
  },
  {
   "cell_type": "markdown",
   "metadata": {
    "slideshow": {
     "slide_type": "subslide"
    }
   },
   "source": [
    "<h2 style=\"text-align:center;\">Startle response of a fish:</h2>\n",
    "<center>\n",
    "    <video controls data-autoplay src=\"../videos/looming_stim.mp4\">\n",
    "</center>"
   ]
  },
  {
   "cell_type": "markdown",
   "metadata": {
    "slideshow": {
     "slide_type": "subslide"
    }
   },
   "source": [
    "<h2 style=\"text-align:center;\">In a fish school:</h2>\n",
    "<center>\n",
    "    <video controls data-autoplay src=\"../videos/pnas.1420068112.sm01.mp4\" />\n",
    "    Rosenthal et al. 2015\n",
    "</center>"
   ]
  },
  {
   "cell_type": "markdown",
   "metadata": {
    "slideshow": {
     "slide_type": "subslide"
    }
   },
   "source": [
    "<h2 style=\"text-align:center;\">Visually evoked startle responses</h2>\n",
    "<span class=\"fragment fade-in\" data-fragment-index=\"1\">\n",
    "    <center>\n",
    "        <img src=\"../figures/bhattacharyya_exp.jpg\">\n",
    "        Bhattacharyya et al. 2017\n",
    "    </center>\n",
    "</span>"
   ]
  },
  {
   "cell_type": "markdown",
   "metadata": {
    "slideshow": {
     "slide_type": "subslide"
    }
   },
   "source": [
    "<h2 style=\"text-align:center;\">Experimental response properties</h2>\n",
    "<span class=\"fragment fade-in\" data-fragment-index=\"1\">\n",
    "    <div class=\"halfdiv\">\n",
    "        <center>\n",
    "            <img src=\"../figures/expm_theta.png\">\n",
    "            Bhattacharyya et al. 2017\n",
    "        </center>\n",
    "    </div>\n",
    "</span>\n",
    "<span class=\"fragment fade-in\" data-fragment-index=\"2\">\n",
    "    <div class=\"halfdiv\">\n",
    "        <center>\n",
    "            <img src=\"../figures/expm_theta_vs_lv.jpg\">\n",
    "            Bhattacharyya et al. 2017\n",
    "        </center>\n",
    "    </div>\n",
    "</span>"
   ]
  },
  {
   "cell_type": "markdown",
   "metadata": {
    "slideshow": {
     "slide_type": "slide"
    }
   },
   "source": [
    "<h2 style=\"text-align:center;\">Neuronal model</h2>"
   ]
  },
  {
   "cell_type": "markdown",
   "metadata": {
    "slideshow": {
     "slide_type": "subslide"
    }
   },
   "source": [
    "## Motivation: The Mauthner cell\n",
    "<center>\n",
    "    <img src=\"../figures/mauthner_system.jpg\">\n",
    "    Pfaff et. al 2012\n",
    "</center>"
   ]
  },
  {
   "cell_type": "markdown",
   "metadata": {
    "slideshow": {
     "slide_type": "subslide"
    }
   },
   "source": [
    "<h2 style=\"text-align:center;\">Neuronal model - concept</h2>\n",
    "<span class=\"fragment fade-in\" data-fragment-index=\"1\">\n",
    "    <div class=\"halfdiv\">\n",
    "        <center>\n",
    "            <img src=\"../figures/looming_sketch.png\">\n",
    "        </center>\n",
    "    </div>\n",
    "</span>\n",
    "<span class=\"fragment fade-in\" data-fragment-index=\"2\">\n",
    "    <div class=\"halfdiv\">\n",
    "        <center>\n",
    "            <img src=\"../figures/neuronal_model.png\">\n",
    "        </center>\n",
    "    </div>\n",
    "</span>"
   ]
  },
  {
   "cell_type": "markdown",
   "metadata": {
    "slideshow": {
     "slide_type": "subslide"
    }
   },
   "source": [
    "<h2 style=\"text-align:center;\">Neuronal model- equations</h2>\n",
    "<br />\n",
    "<span class=\"fragment fade-in\" data-fragment-index=\"1\">\n",
    "    <h3 style=\"text-align:center;\">Input:</h2>\n",
    "    $$I(t) = f(\\theta (t))$$\n",
    "    $$\\theta (t) = 2\\cdot \\arctan(\\frac{L/2}{distance})$$\n",
    "</span>\n",
    "<span class=\"fragment fade-in\" data-fragment-index=\"2\">\n",
    "    <h3 style=\"text-align:center;\">Inhibitory population:</h2>\n",
    "    $$\\tau _{\\rho} \\frac{d\\rho}{dt} = - (\\rho(t) - \\rho_{0}) + a_{\\rho} I(t) + \\eta _{\\rho}(t)$$\n",
    "</span>\n",
    "<span class=\"fragment fade-in\" data-fragment-index=\"3\">\n",
    "    <h3 style=\"text-align:center;\">LIF for Mauthner cell:</h2>\n",
    "    $$\\tau _m \\frac{dV_m}{dt} = - (V(t) - E_{L}) + R_{m} I(t) - \\rho (t) +  \\eta _m (t)$$\n",
    "</span>\n",
    "<br />"
   ]
  },
  {
   "cell_type": "markdown",
   "metadata": {
    "slideshow": {
     "slide_type": "subslide"
    }
   },
   "source": [
    "<h2 style=\"text-align:center;\">Model fitting result</h2>\n",
    "<span class=\"stretch\">\n",
    "    <center>\n",
    "        <img height=\"50%\" width=\"60%\" src=\"../figures/results/expm_fit_comparison.png\">\n",
    "    </center>\n",
    "</span>"
   ]
  },
  {
   "cell_type": "markdown",
   "metadata": {
    "slideshow": {
     "slide_type": "slide"
    }
   },
   "source": [
    "<h2 style=\"text-align:center;\">Collective behavior model</h2>"
   ]
  },
  {
   "cell_type": "markdown",
   "metadata": {
    "slideshow": {
     "slide_type": "subslide"
    }
   },
   "source": [
    "<h2 style=\"text-align:center;\">Social forces</h2>\n",
    "\n",
    "<center>\n",
    "    <div class=\"example\">\n",
    "    <center>\n",
    "        repulsion<br />\n",
    "        <img src=\"../figures/repulsion.png\"/>\n",
    "    </center> \n",
    "    </div>\n",
    "    <div class=\"example\">\n",
    "    <center>\n",
    "        alignment<br />\n",
    "        <img src=\"../figures/alignment.png\"/>\n",
    "    </center>\n",
    "    </div>\n",
    "    <div class=\"example\">\n",
    "    <center>\n",
    "        attraction<br />\n",
    "        <img src=\"../figures/attraction.png\">\n",
    "    <center>\n",
    "    </div>\n",
    "</center>"
   ]
  },
  {
   "cell_type": "markdown",
   "metadata": {
    "slideshow": {
     "slide_type": "subslide"
    }
   },
   "source": [
    "<h2 style=\"text-align:center;\">Simulated fish school</h2>\n",
    "<center>\n",
    "    <video width=\"50%\" height=\"50%\" controls data-autoplay src=\"../videos/firing_map_test.mp4\" />\n",
    "</center>"
   ]
  },
  {
   "cell_type": "markdown",
   "metadata": {
    "slideshow": {
     "slide_type": "subslide"
    }
   },
   "source": [
    "<h2 style=\"text-align:center;\">Behavioral measurements</h2>\n",
    "<span class=\"stretch\">\n",
    "    <center>\n",
    "        <img height=\"50%\" width=\"60%\" src=\"../figures/results/swarm_over_time.png\">\n",
    "    </center>\n",
    "</span>"
   ]
  },
  {
   "cell_type": "markdown",
   "metadata": {
    "slideshow": {
     "slide_type": "subslide"
    }
   },
   "source": [
    "<h2 style=\"text-align:center;\">Parameter exploration</h2>\n",
    "<span class=\"stretch\">\n",
    "    <center>\n",
    "        <img height=\"70%\" width=\"70%\" src=\"../figures/results/swarm_measures.png\">\n",
    "    </center>\n",
    "</span>"
   ]
  },
  {
   "cell_type": "markdown",
   "metadata": {
    "slideshow": {
     "slide_type": "slide"
    }
   },
   "source": [
    "## How did I do it?"
   ]
  },
  {
   "cell_type": "markdown",
   "metadata": {
    "slideshow": {
     "slide_type": "slide"
    }
   },
   "source": [
    "## Accelerating code with numba:"
   ]
  },
  {
   "cell_type": "code",
   "execution_count": 5,
   "metadata": {
    "slideshow": {
     "slide_type": "fragment"
    }
   },
   "outputs": [],
   "source": [
    "from numba import jit\n",
    "\n",
    "@jit\n",
    "def jit_ffi_model(lots of parameters):\n",
    "    # variable initializations\n",
    "    t = 1\n",
    "    while t < ntime_steps:\n",
    "        # model calculations:\n",
    "        # calculate activation of inhibitory population\n",
    "        # calculate lif dynamics with inhibitory input\n",
    "\n",
    "    return time_points, v_m, t_spks, idx_spks, rho_inh"
   ]
  },
  {
   "cell_type": "markdown",
   "metadata": {
    "slideshow": {
     "slide_type": "slide"
    }
   },
   "source": [
    "## Data storage with pandas"
   ]
  },
  {
   "cell_type": "code",
   "execution_count": 7,
   "metadata": {
    "slideshow": {
     "slide_type": "fragment"
    }
   },
   "outputs": [],
   "source": [
    "import pandas as pd\n",
    "\n",
    "def run_fit_validation():\n",
    "    data_cols = ['result1', 'result2']\n",
    "    data_dict = dict([(col_name, []) for col_name in data_cols])\n",
    "\n",
    "    for dat_idx in range(nparam_sets):\n",
    "        for i in range(nreps):\n",
    "            #calculations of result1 and result2\n",
    "\n",
    "            result_values = [result1, result2]\n",
    "            for col, value in zip(data_cols, result_values):\n",
    "                data_dict[col].append(value)\n",
    "\n",
    "    fit_df = pd.DataFrame(data_dict)\n",
    "    fit_df.to_hdf('filepath/fitting_validation_error_v4.hdf5', key='fitting_results', mode='w')"
   ]
  },
  {
   "cell_type": "markdown",
   "metadata": {
    "slideshow": {
     "slide_type": "slide"
    }
   },
   "source": [
    "## Managing simulations with pypet"
   ]
  },
  {
   "cell_type": "code",
   "execution_count": null,
   "metadata": {
    "slideshow": {
     "slide_type": "fragment"
    }
   },
   "outputs": [],
   "source": [
    "from pypet import Environment\n",
    "from pypet import pypetconstants\n",
    "from pypet.utils.explore import cartesian_product\n",
    "\n",
    "def run_sim(traj):\n",
    "    # initialize system parameters\n",
    "    # initialize prey parameters\n",
    "\n",
    "    outData, agentData = sw.SingleRun(paraSystem, paraFish)\n",
    "    store_outdata(traj, outData)\n",
    "\n",
    "env = Environment(trajectory='looming_swarm',\n",
    "                  filename=filename,\n",
    "                  overwrite_file=True,\n",
    "                  file_title='looming_swarm_simulation',\n",
    "                  comment='The first exploration',\n",
    "                  multiproc=True,\n",
    "                  ncores=6,\n",
    "                  use_pool=True,  # Our runs are inexpensive we can get rid of overhead\n",
    "                  )"
   ]
  },
  {
   "cell_type": "code",
   "execution_count": null,
   "metadata": {
    "slideshow": {
     "slide_type": "subslide"
    }
   },
   "outputs": [],
   "source": [
    "# The environment has created a trajectory container for us\n",
    "traj = env.trajectory\n",
    "\n",
    "# Add both parameters\n",
    "traj.f_add_parameter('N', 40, comment='Number of fish')\n",
    "traj.f_add_parameter('L', 50, comment='Length of the quadratic field')\n",
    "traj.f_add_parameter('total_time', 500, comment='time of the simulation in seconds (per defintion)')\n",
    "traj.f_add_parameter('dt', 0.001, comment='The size of the time step')\n",
    "# add many more parameters\n",
    "\n",
    "# Explore the parameters with a cartesian product\n",
    "traj.f_explore(cartesian_product({'seed': np.arange(200, 203).tolist(),\n",
    "                                  'speed0': np.linspace(0.5, 3.0, 5).tolist(),\n",
    "                                  'noisep': np.linspace(0.01, 0.2, 5).tolist(),\n",
    "                                  'int_type': ['matrix', 'voronoi_matrix'],\n",
    "                                  'vis_input_method': ['max', 'knn_mean', 'knn_mean_deviate']\n",
    "                                  }))\n",
    "\n",
    "# Run the simulation\n",
    "starttime = time.time()\n",
    "\n",
    "env.run(run_sim)"
   ]
  },
  {
   "cell_type": "markdown",
   "metadata": {
    "slideshow": {
     "slide_type": "slide"
    }
   },
   "source": [
    "## Animations with matplotlib"
   ]
  },
  {
   "cell_type": "code",
   "execution_count": null,
   "metadata": {
    "slideshow": {
     "slide_type": "fragment"
    }
   },
   "outputs": [],
   "source": [
    "import matplotlib.pyplot as plt\n",
    "import matplotlib.animation as manimation\n",
    "\n",
    "def plotSavedAnimation(positionList, startle_list, L, doblit=False, sleepTime=0.01):\n",
    "    FFMpegWriter = manimation.writers['ffmpeg']\n",
    "    metadata = dict(title='Movie Test', artist='Matplotlib', comment='Movie support!')\n",
    "    writer = FFMpegWriter(fps=15, metadata=metadata)\n",
    "\n",
    "    fig = plt.figure(99, figsize=(10, 10))\n",
    "    ax = plt.subplot()\n",
    "    points = ax.plot(x, y, 'ro')[0]\n",
    "    pointstail = ax.plot(x, y, 'r.', alpha=0.2)[0]    \n",
    "    firings = ax.plot(0, 0, 'k*')[0]\n",
    "\n",
    "    with writer.saving(fig, \"firing_map_test.mp4\", 100):\n",
    "        for step in range(1, len(positionList)):\n",
    "            # get new positions\n",
    "\n",
    "            points.set_data(x, y)\n",
    "            pointstail.set_data(xtail, ytail)\n",
    "            firings.set_data(firingsx, firingsy)\n",
    "            \n",
    "            writer.grab_frame()\n",
    "    plt.close(fig)"
   ]
  },
  {
   "cell_type": "markdown",
   "metadata": {
    "slideshow": {
     "slide_type": "slide"
    }
   },
   "source": [
    "## Summary\n",
    "\n",
    "- how to scare a fish: show a quickly expanding black disk or square\n",
    "- we developed a neuronal model that can reproduce experimental behavior\n",
    "- we can couple the neuronal model with a collective behavior model\n",
    "- there are many helpful python packages for computational modeling work"
   ]
  },
  {
   "cell_type": "markdown",
   "metadata": {
    "slideshow": {
     "slide_type": "slide"
    }
   },
   "source": [
    "# Thanks\n",
    "- Collective Information Processing group\n",
    "- Open source software:\n",
    "    - Numpy\n",
    "    - Scipy\n",
    "    - Sklearn\n",
    "    - Matplotlib\n",
    "    - Seaborn\n",
    "    - Ipython\n",
    "    - Jupyter Notebook\n",
    "    - Pypet (https://pypet.readthedocs.io/en/latest/)\n",
    "- Tools for this presentation:\n",
    "    - Jupyter Notebook\n",
    "    - RISE (https://github.com/damianavila/RISE)"
   ]
  },
  {
   "cell_type": "markdown",
   "metadata": {
    "slideshow": {
     "slide_type": "slide"
    }
   },
   "source": [
    "## Questions ?\n",
    "\n",
    "Also at github.com/awakenting/master-thesis\n",
    "\n",
    "Or on twitter: @awakenting"
   ]
  }
 ],
 "metadata": {
  "celltoolbar": "Slideshow",
  "kernelspec": {
   "display_name": "Python [default]",
   "language": "python",
   "name": "python3"
  },
  "language_info": {
   "codemirror_mode": {
    "name": "ipython",
    "version": 3
   },
   "file_extension": ".py",
   "mimetype": "text/x-python",
   "name": "python",
   "nbconvert_exporter": "python",
   "pygments_lexer": "ipython3",
   "version": "3.6.5"
  },
  "livereveal": {},
  "nbpresent": {
   "slides": {
    "9170f04d-4ede-4a07-b56d-93dd5160038f": {
     "id": "9170f04d-4ede-4a07-b56d-93dd5160038f",
     "prev": null,
     "regions": {
      "10c5883a-7c79-4f96-9140-3bd7491170dc": {
       "attrs": {
        "height": 1,
        "width": 1,
        "x": 0,
        "y": 0
       },
       "content": {
        "cell": "cedb7cbc-0ae6-435a-833e-eb2d27215df8",
        "part": "source"
       },
       "id": "10c5883a-7c79-4f96-9140-3bd7491170dc"
      }
     }
    }
   },
   "themes": {}
  },
  "toc": {
   "nav_menu": {},
   "number_sections": true,
   "sideBar": true,
   "skip_h1_title": false,
   "title_cell": "Table of Contents",
   "title_sidebar": "Contents",
   "toc_cell": false,
   "toc_position": {},
   "toc_section_display": true,
   "toc_window_display": false
  },
  "varInspector": {
   "cols": {
    "lenName": 16,
    "lenType": 16,
    "lenVar": 40
   },
   "kernels_config": {
    "python": {
     "delete_cmd_postfix": "",
     "delete_cmd_prefix": "del ",
     "library": "var_list.py",
     "varRefreshCmd": "print(var_dic_list())"
    },
    "r": {
     "delete_cmd_postfix": ") ",
     "delete_cmd_prefix": "rm(",
     "library": "var_list.r",
     "varRefreshCmd": "cat(var_dic_list()) "
    }
   },
   "types_to_exclude": [
    "module",
    "function",
    "builtin_function_or_method",
    "instance",
    "_Feature"
   ],
   "window_display": false
  }
 },
 "nbformat": 4,
 "nbformat_minor": 2
}
