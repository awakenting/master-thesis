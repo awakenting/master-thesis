{
 "cells": [
  {
   "cell_type": "code",
   "execution_count": 1,
   "metadata": {
    "collapsed": true
   },
   "outputs": [],
   "source": [
    "import numpy as np\n",
    "import matplotlib.pyplot as plt\n",
    "%matplotlib inline\n",
    "import seaborn as sns\n",
    "import pandas as pd\n",
    "from numba import jit\n",
    "import models as md\n",
    "from ipywidgets import interact, interactive, fixed, interact_manual, Button, HBox, VBox\n",
    "from IPython.display import display\n",
    "import ipywidgets as widgets"
   ]
  },
  {
   "cell_type": "markdown",
   "metadata": {},
   "source": [
    "# Feedforward inhibition model"
   ]
  },
  {
   "cell_type": "code",
   "execution_count": 2,
   "metadata": {
    "collapsed": true
   },
   "outputs": [],
   "source": [
    "def plot_trial(exc_scale=9, inh_scale=9, r_m=10, tau_inh=10, rho_null=2, speed_idx=2):\n",
    "    tau_m = 0.023\n",
    "    e_l = -0.079\n",
    "    r_m = r_m*1e6 # MOhm\n",
    "    v_t = -0.061\n",
    "    init_vm_std = 0.000\n",
    "    vt_std = 0.000\n",
    "\n",
    "    rho_null = rho_null/1000\n",
    "    tau_inh = tau_inh/1000\n",
    "    rho_scale = inh_scale*1e6\n",
    "\n",
    "    dt = 0.0001\n",
    "    total_time = 5\n",
    "    init_period = 2\n",
    "\n",
    "    noise_std_exc = 0*1e-3\n",
    "    noise_std_inh = 0*1e-3\n",
    "    n_timepoints = int((total_time+init_period)/dt)\n",
    "\n",
    "    # generate looming stimulus\n",
    "    LV_vals = np.array([0.19, 0.38, 0.56, 0.74, 0.93, 1.11])\n",
    "    stim_size = 10\n",
    "    speeds = 1/(LV_vals/stim_size)\n",
    "    speed = speeds[speed_idx]\n",
    "    cutoff_angle = 180\n",
    "    print(speed)\n",
    "\n",
    "    m = 5.0\n",
    "    b = 0\n",
    "\n",
    "    t, stims, tstims, dists, t_to_collision, transformed_stim_to_collision = md.transform_stim(stim_size, speed,\n",
    "                                                                                               total_time, dt, m,\n",
    "                                                                                               b, init_period,\n",
    "                                                                                               cutoff_angle)\n",
    "\n",
    "    stimulus = tstims*exc_scale*1e-11\n",
    "    sigma_exc = noise_std_exc * np.sqrt(dt)\n",
    "    sigma_inh = noise_std_inh * np.sqrt(dt)\n",
    "    noise_exc = np.random.normal(loc=0.0, scale=sigma_exc, size=n_timepoints)\n",
    "    noise_inh = np.random.normal(loc=0.0, scale=sigma_inh, size=n_timepoints)\n",
    "    print(np.min(noise_exc), np.max(noise_exc))\n",
    "    time, v_m, spks, spk_idc, rho_inh = md.jit_ffi_model(tau_m, e_l, r_m, stimulus, noise_exc, noise_inh, v_t, dt,\n",
    "                                                      total_time, init_vm_std, vt_std, rho_null, tau_inh, rho_scale,\n",
    "                                                      init_period)\n",
    "\n",
    "    if not len(spks)==0:\n",
    "        first_spike = spks[0]\n",
    "        first_spike_idx = spk_idc[0]\n",
    "    else:\n",
    "        first_spike = 0\n",
    "        first_spike_idx = 0\n",
    "\n",
    "    fig, axes = plt.subplots(5, 1, figsize=(6,12))\n",
    "    axes[0].plot(time, stims)\n",
    "    axes[0].set_title(r'stimulus angle [$ \\degree $]')\n",
    "    #axes[0].set_ylim([0, 100])\n",
    "    axes[1].plot(time, rho_inh)\n",
    "    axes[1].set_title('inhibitory population activity')\n",
    "    axes[2].plot(time, stimulus*r_m)\n",
    "    axes[2].set_title('stimulus*r_m')\n",
    "    axes[3].plot(time, stimulus*r_m - rho_inh)\n",
    "    axes[3].hlines(0.018, time[0], time[-1], 'k')\n",
    "    axes[3].set_title('effective input (stimulus + inhibition)')\n",
    "    axes[4].plot(time, v_m)\n",
    "    axes[4].set_title('membrane potential')\n",
    "    if not len(spks) == 0:\n",
    "        axes[4].plot(spks, np.ones(len(spks))*v_t, 'r*')\n",
    "    plt.subplots_adjust(hspace=0.5)\n",
    "    print('Response angle at first spike: ' + str(stims[first_spike_idx]) + ' degree')\n",
    "    print('Distance at first spike: ' + str(dists[first_spike_idx]) + ' mm')"
   ]
  },
  {
   "cell_type": "code",
   "execution_count": 3,
   "metadata": {
    "collapsed": true,
    "scrolled": false
   },
   "outputs": [],
   "source": [
    "#parameter sliders\n",
    "exc_scale_slider = widgets.FloatSlider(min=1, max=200, step=1, value=33, continuous_update=False)\n",
    "inh_scale_slider = widgets.FloatSlider(min=1, max=20, step=0.2, value=9.6, continuous_update=False)\n",
    "rm_slider = widgets.FloatSlider(min=1, max=20, step=0.2, value=10, continuous_update=False)\n",
    "tau_inh_slider = widgets.IntSlider(min=1, max=50, step=2, value=10, continuous_update=False)\n",
    "rho_null_slider = widgets.FloatSlider(min=0, max=50, step=1, value=10, continuous_update=False)\n",
    "speed_idx_slider = widgets.IntSlider(min=0, max=5, step=1, value=2, continuous_update=False)\n",
    "plotgroup = interactive(plot_trial, exc_scale=exc_scale_slider, inh_scale=inh_scale_slider, r_m=rm_slider,\n",
    "                        tau_inh=tau_inh_slider, rho_null=rho_null_slider, speed_idx=speed_idx_slider)\n",
    "\n",
    "# refresh button\n",
    "button = widgets.Button(description='Refresh')\n",
    "def on_button_clicked(b):\n",
    "    plotgroup.update()\n",
    "button.on_click(on_button_clicked)\n",
    "\n",
    "# combine sliders and button\n",
    "allgroups = HBox(children=[plotgroup, button])"
   ]
  },
  {
   "cell_type": "code",
   "execution_count": 4,
   "metadata": {
    "scrolled": false
   },
   "outputs": [
    {
     "data": {
      "application/vnd.jupyter.widget-view+json": {
       "model_id": "79d052366af64906be65df5037f6c6b2",
       "version_major": 2,
       "version_minor": 0
      },
      "text/plain": [
       "A Jupyter Widget"
      ]
     },
     "metadata": {},
     "output_type": "display_data"
    }
   ],
   "source": [
    "allgroups"
   ]
  },
  {
   "cell_type": "markdown",
   "metadata": {},
   "source": [
    "# Analyzing the effects of parameters of the inhibitory population"
   ]
  },
  {
   "cell_type": "code",
   "execution_count": 8,
   "metadata": {
    "collapsed": true
   },
   "outputs": [],
   "source": [
    "def plot_response_props(exc_scale, inh_scale, vt_std, rho_null, rho_null_std, tau_inh, cutoff_angle, exc_noise, m):\n",
    "    params = {'tau_m': 0.023,\n",
    "              'e_l': -0.079,\n",
    "              'r_m': 10*1e6, # MOhm\n",
    "              'v_t': -0.061,\n",
    "              'init_vm_std': 0.0,\n",
    "              'vt_std': vt_std/1000,\n",
    "              'rho_null': rho_null,\n",
    "              'rho_null_std': rho_null_std,\n",
    "              'tau_inh': tau_inh/1000,\n",
    "              'rho_scale': inh_scale*1e6,\n",
    "              'exc_scale': exc_scale,\n",
    "              'dt': 0.0005,\n",
    "              'total_time': 10,\n",
    "              'init_period': 2,\n",
    "              'cutoff_angle': cutoff_angle,\n",
    "              'noise_std_exc': exc_noise/1000,\n",
    "              'noise_std_inh': 0*1e-3,\n",
    "              'm': m,\n",
    "              'b': 0,\n",
    "              'lv_min': 0.02,\n",
    "              'lv_max': 1.2,\n",
    "              'l_min': 6,\n",
    "              'l_max': 45,\n",
    "              'init_distance': 160}\n",
    "    nruns = 250\n",
    "    data_cols = ['resp_angle', 'resp_dist', 'resp_time', 'lv', 'stim_size', 'speed', 'resp_time_coll']\n",
    "    data_dict = dict([(col_name, []) for col_name in data_cols])\n",
    "\n",
    "    for i in np.arange(nruns):\n",
    "        resp_angle, resp_dist, resp_time, lv, stim_size, speed, resp_time_coll = md.calc_response_ffi(params)\n",
    "        resp_angle = np.round(resp_angle, decimals=1)\n",
    "        resp_dist = np.round(resp_dist, decimals=1)\n",
    "        resp_time = np.round(resp_time, decimals=3)\n",
    "        lv = np.round(lv, decimals=2)\n",
    "        stim_size = np.round(stim_size, decimals=1)\n",
    "        speed = np.round(speed, decimals=1)\n",
    "        resp_time_coll = np.round(resp_time_coll, decimals=3)\n",
    "        result_values = [resp_angle, resp_dist, resp_time, lv, stim_size, speed, resp_time_coll]\n",
    "        for col, value in zip(data_cols, result_values):\n",
    "            data_dict[col].append(value)\n",
    "\n",
    "    df = pd.DataFrame(data_dict)\n",
    "    \n",
    "    sns.set('poster')\n",
    "    \n",
    "    fig, axes = plt.subplots(nrows=2, ncols=2, figsize=(16,16))\n",
    "    sns.regplot(x='resp_dist', y='lv', data=df, fit_reg=False, ax=axes[0,0])\n",
    "    axes[0,0].set_ylim([0, 1.3])\n",
    "    axes[0,0].set_xlim([0, 50])\n",
    "    \n",
    "    sns.regplot(x='resp_time', y='lv', data=df, fit_reg=False, ax=axes[0,1])\n",
    "    # plot preuss2006 data\n",
    "    lv_vals = np.array([0.075, 0.036, 0.02, 0.044, 0.055, 0.11, 0.03])\n",
    "    latency_vals = np.array([0.1, 0.19, 0.22, 0.24, 0.3, 0.42, 0.7])\n",
    "    axes[0,1].plot(latency_vals+params['init_period'], lv_vals, 'k.', ms=20)\n",
    "    #axes[0,1].set_xlim([2, 3])\n",
    "    \n",
    "    sns.regplot(x='lv', y='resp_angle', data=df, fit_reg=False, ax=axes[1,0])\n",
    "    # plot preuss2006 data\n",
    "    theta_vals = np.array([28, 24, 14, 21, 19, 22, 16])\n",
    "    axes[1,0].plot(lv_vals, theta_vals, 'k.', ms=20)\n",
    "    axes[1,0].set_ylim([0, 180])\n",
    "    axes[1,0].set_xlim([0, 1.3])\n",
    "    \n",
    "    sns.regplot(x='resp_time_coll', y='lv', data=df, fit_reg=False, ax=axes[1,1])\n",
    "    axes[1,1].set_ylim([0, 1.3])\n",
    "    axes[1,1].set_xlim([-5, 0])"
   ]
  },
  {
   "cell_type": "code",
   "execution_count": 9,
   "metadata": {},
   "outputs": [],
   "source": [
    "#parameter sliders\n",
    "exc_scale_slider = widgets.FloatSlider(min=1, max=200, step=1, value=33, continuous_update=False)\n",
    "inh_scale_slider = widgets.FloatSlider(min=1, max=20, step=0.2, value=9.6, continuous_update=False)\n",
    "vt_std_slider = widgets.FloatSlider(min=0, max=5, step=1, value=1, continuous_update=False)\n",
    "rho_null_slider = widgets.FloatSlider(min=0, max=10, step=0.5, value=2, continuous_update=False)\n",
    "rho_null_std_slider = widgets.FloatSlider(min=0, max=5, step=0.1, value=0.2, continuous_update=False)\n",
    "tau_inh_slider = widgets.FloatSlider(min=0.05, max=25, step=0.5, value=1, continuous_update=False)\n",
    "cutoff_slider = widgets.FloatSlider(min=120, max=180, step=10, value=150, continuous_update=False)\n",
    "exc_noise_slider = widgets.FloatSlider(min=0, max=20, step=1, value=5, continuous_update=False)\n",
    "m_slider = widgets.FloatSlider(min=1, max=6, step=0.5, value=3, continuous_update=False)\n",
    "\n",
    "plotgroup = interactive(plot_response_props, exc_scale=exc_scale_slider, inh_scale=inh_scale_slider,\n",
    "                        vt_std=vt_std_slider, rho_null=rho_null_slider, rho_null_std=rho_null_std_slider,\n",
    "                        tau_inh=tau_inh_slider, cutoff_angle=cutoff_slider, exc_noise=exc_noise_slider, m=m_slider)\n",
    "\n",
    "# refresh button\n",
    "button = widgets.Button(description='Refresh')\n",
    "def on_button_clicked(b):\n",
    "    plotgroup.update()\n",
    "button.on_click(on_button_clicked)\n",
    "\n",
    "# combine sliders and button\n",
    "allgroups = HBox(children=[plotgroup, button])"
   ]
  },
  {
   "cell_type": "code",
   "execution_count": 10,
   "metadata": {},
   "outputs": [
    {
     "data": {
      "application/vnd.jupyter.widget-view+json": {
       "model_id": "f832b7b4449946188bf1647e7ba34f83",
       "version_major": 2,
       "version_minor": 0
      },
      "text/plain": [
       "A Jupyter Widget"
      ]
     },
     "metadata": {},
     "output_type": "display_data"
    }
   ],
   "source": [
    "allgroups"
   ]
  }
 ],
 "metadata": {
  "kernelspec": {
   "display_name": "Python [default]",
   "language": "python",
   "name": "python3"
  },
  "language_info": {
   "codemirror_mode": {
    "name": "ipython",
    "version": 3
   },
   "file_extension": ".py",
   "mimetype": "text/x-python",
   "name": "python",
   "nbconvert_exporter": "python",
   "pygments_lexer": "ipython3",
   "version": "3.6.3"
  },
  "toc": {
   "nav_menu": {},
   "number_sections": true,
   "sideBar": true,
   "skip_h1_title": false,
   "title_cell": "Table of Contents",
   "title_sidebar": "Contents",
   "toc_cell": false,
   "toc_position": {},
   "toc_section_display": true,
   "toc_window_display": false
  },
  "varInspector": {
   "cols": {
    "lenName": 16,
    "lenType": 16,
    "lenVar": 40
   },
   "kernels_config": {
    "python": {
     "delete_cmd_postfix": "",
     "delete_cmd_prefix": "del ",
     "library": "var_list.py",
     "varRefreshCmd": "print(var_dic_list())"
    },
    "r": {
     "delete_cmd_postfix": ") ",
     "delete_cmd_prefix": "rm(",
     "library": "var_list.r",
     "varRefreshCmd": "cat(var_dic_list()) "
    }
   },
   "types_to_exclude": [
    "module",
    "function",
    "builtin_function_or_method",
    "instance",
    "_Feature"
   ],
   "window_display": false
  }
 },
 "nbformat": 4,
 "nbformat_minor": 2
}
