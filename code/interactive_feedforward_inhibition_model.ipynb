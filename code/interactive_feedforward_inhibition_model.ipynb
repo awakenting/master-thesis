{
 "cells": [
  {
   "cell_type": "code",
   "execution_count": 1,
   "metadata": {
    "collapsed": true
   },
   "outputs": [],
   "source": [
    "import numpy as np\n",
    "import matplotlib.pyplot as plt\n",
    "%matplotlib inline\n",
    "import seaborn as sns\n",
    "import pandas as pd\n",
    "from numba import jit\n",
    "import models as md\n",
    "from ipywidgets import interact, interactive, fixed, interact_manual, Button, HBox, VBox\n",
    "from IPython.display import display\n",
    "import ipywidgets as widgets"
   ]
  },
  {
   "cell_type": "markdown",
   "metadata": {},
   "source": [
    "# Feedforward inhibition model"
   ]
  },
  {
   "cell_type": "code",
   "execution_count": 2,
   "metadata": {
    "collapsed": true
   },
   "outputs": [],
   "source": [
    "@jit\n",
    "def jit_ffi_model(tau_m, e_l, r_m, stimulus, noise_exc, noise_inh, v_t, dt, total_time, init_vm_std, vt_std, rho_null,\n",
    "                  tau_inh, rho_scale, init_period):\n",
    "    ntime_steps = int((total_time+init_period)/dt)\n",
    "    time_points = np.arange(ntime_steps)*dt\n",
    "    v_m = np.zeros(ntime_steps)\n",
    "    v_m[0] = np.random.normal(loc=e_l, scale=init_vm_std)\n",
    "    v_t = np.random.normal(loc=v_t, scale=vt_std, size=ntime_steps)\n",
    "    rho_inh = np.zeros(ntime_steps)\n",
    "    t_spks = []\n",
    "    idx_spks = []\n",
    "    # integration:\n",
    "    t = 1\n",
    "    while t < ntime_steps:\n",
    "        # calculate activation of inhibitory population\n",
    "        rho_inh[t] = rho_inh[t-1] + dt*(rho_null - rho_inh[t-1] + rho_scale*stimulus[t])/tau_inh + noise_inh[t]\n",
    "        # calculate lif dynamics with inhibitory input\n",
    "        v_m[t] = v_m[t - 1] + dt*(- (v_m[t - 1] - e_l) + r_m*stimulus[t] - rho_inh[t-1])/tau_m + noise_exc[t]\n",
    "        if v_m[t] > v_t[t]:\n",
    "            v_m[t] = e_l\n",
    "            if t*dt > init_period:\n",
    "                t_spks.append(t*dt)\n",
    "                idx_spks.append(t)\n",
    "        t = t + 1\n",
    "    \n",
    "    return time_points, v_m, t_spks, idx_spks, rho_inh"
   ]
  },
  {
   "cell_type": "code",
   "execution_count": 3,
   "metadata": {
    "collapsed": true
   },
   "outputs": [],
   "source": [
    "def calc_response(params):\n",
    "    # sample lv values uniformly between 0.1 and 1.2\n",
    "    lv = np.random.rand()*1.1 + 0.1\n",
    "    # sample stimulus sizes (L) uniformly between 10 and 25\n",
    "    stim_size = np.random.rand()*15 + 10\n",
    "    speed = 1/(lv/stim_size)\n",
    "    t, stims, tstims, dists, t_to_coll, tstim_to_coll = md.transform_stim(stim_size, speed, params['total_time'],\n",
    "                                                                          params['dt'], params['m'], params['b'],\n",
    "                                                                          params['init_period'])\n",
    "\n",
    "    stimulus = tstims*1e-11\n",
    "    sigma_exc = params['noise_std_exc'] * np.sqrt(params['dt'])\n",
    "    sigma_inh = params['noise_std_inh'] * np.sqrt(params['dt'])\n",
    "    noise_exc = np.random.normal(loc=0.0, scale=sigma_exc, size=len(stimulus))\n",
    "    noise_inh = np.random.normal(loc=0.0, scale=sigma_inh, size=len(stimulus))\n",
    "\n",
    "    #np.random.seed(1)\n",
    "    time, v_m, spks, spk_idc, rho_inh = jit_ffi_model(params['tau_m'], params['e_l'], params['r_m'], stimulus, noise_exc,\n",
    "                                                      noise_inh, params['v_t'], params['dt'], params['total_time'],\n",
    "                                                      params['init_vm_std'], params['vt_std'], params['rho_null'],\n",
    "                                                      params['tau_inh'], params['rho_scale'], params['init_period'])\n",
    "    if not len(spks)==0:\n",
    "        first_spike = spks[0]\n",
    "        first_spike_idx = spk_idc[0]\n",
    "    else:\n",
    "        first_spike = 0\n",
    "        first_spike_idx = 0\n",
    "        \n",
    "    if not first_spike_idx >= len(t_to_coll):\n",
    "        resp_in_t_to_coll = t_to_coll[first_spike_idx]\n",
    "    else:\n",
    "        resp_in_t_to_coll = 0\n",
    "        \n",
    "    return stims[first_spike_idx], dists[first_spike_idx], first_spike, lv, stim_size, speed, resp_in_t_to_coll"
   ]
  },
  {
   "cell_type": "code",
   "execution_count": 4,
   "metadata": {
    "collapsed": true
   },
   "outputs": [],
   "source": [
    "def plot_trial(exc_scale=9, inh_scale=9, r_m=10, tau_inh=10, speed_idx=2):\n",
    "    tau_m = 0.023\n",
    "    e_l = -0.079\n",
    "    r_m = r_m*1e6 # MOhm\n",
    "    v_t = -0.061\n",
    "    init_vm_std = 0.001\n",
    "    vt_std = 0.001\n",
    "\n",
    "    rho_null = 0.010\n",
    "    tau_inh = tau_inh/1000\n",
    "    rho_scale = inh_scale*1e6\n",
    "\n",
    "    dt = 0.001\n",
    "    total_time = 5\n",
    "    init_period = 2\n",
    "\n",
    "    noise_std_exc = 20*1e-3\n",
    "    noise_std_inh = 5*1e-3\n",
    "    n_timepoints = int((total_time+init_period)/dt)\n",
    "\n",
    "    # generate looming stimulus\n",
    "    LV_vals = np.array([0.19, 0.38, 0.56, 0.74, 0.93, 1.11])\n",
    "    stim_size = 10\n",
    "    speeds = 1/(LV_vals/stim_size)\n",
    "    speed = speeds[speed_idx]\n",
    "    cutoff_angle = 150\n",
    "\n",
    "    m = 5.5\n",
    "    b = 5\n",
    "\n",
    "    t, stims, tstims, dists, t_to_collision, transformed_stim_to_collision = md.transform_stim(stim_size, speed,\n",
    "                                                                                               total_time, dt, m,\n",
    "                                                                                               b, init_period,\n",
    "                                                                                               cutoff_angle)\n",
    "\n",
    "    stimulus = tstims*exc_scale*1e-11\n",
    "    sigma_exc = noise_std_exc * np.sqrt(dt)\n",
    "    sigma_inh = noise_std_inh * np.sqrt(dt)\n",
    "    noise_exc = np.random.normal(loc=0.0, scale=sigma_exc, size=n_timepoints)\n",
    "    noise_inh = np.random.normal(loc=0.0, scale=sigma_inh, size=n_timepoints)\n",
    "    print(np.min(noise_exc), np.max(noise_exc))\n",
    "    time, v_m, spks, spk_idc, rho_inh = jit_ffi_model(tau_m, e_l, r_m, stimulus, noise_exc, noise_inh, v_t, dt,\n",
    "                                                      total_time, init_vm_std, vt_std, rho_null, tau_inh, rho_scale,\n",
    "                                                      init_period)\n",
    "\n",
    "    if not len(spks)==0:\n",
    "        first_spike = spks[0]\n",
    "        first_spike_idx = spk_idc[0]\n",
    "    else:\n",
    "        first_spike = 0\n",
    "        first_spike_idx = 0\n",
    "\n",
    "    fig, axes = plt.subplots(5, 1, figsize=(6,12))\n",
    "    axes[0].plot(time, stims)\n",
    "    axes[0].set_title(r'stimulus angle [$ \\degree $]')\n",
    "    #axes[0].set_ylim([0, 100])\n",
    "    axes[1].plot(time, rho_inh)\n",
    "    axes[1].set_title('inhibitory population activity')\n",
    "    axes[2].plot(time, stimulus*r_m)\n",
    "    axes[2].set_title('stimulus*r_m')\n",
    "    axes[3].plot(time, stimulus*r_m - rho_inh)\n",
    "    axes[3].set_title('effective input (stimulus + inhibition)')\n",
    "    axes[4].plot(time, v_m)\n",
    "    axes[4].set_title('membrane potential')\n",
    "    if not len(spks) == 0:\n",
    "        axes[4].plot(spks, np.ones(len(spks))*v_t, 'r*')\n",
    "    plt.subplots_adjust(hspace=0.5)\n",
    "    print('Response angle at first spike: ' + str(stims[first_spike_idx]) + ' degree')\n",
    "    print('Distance at first spike: ' + str(dists[first_spike_idx]) + ' mm')"
   ]
  },
  {
   "cell_type": "code",
   "execution_count": 5,
   "metadata": {
    "collapsed": true,
    "scrolled": false
   },
   "outputs": [],
   "source": [
    "#parameter sliders\n",
    "exc_scale_slider = widgets.FloatSlider(min=1, max=200, step=1, value=33, continuous_update=False)\n",
    "inh_scale_slider = widgets.FloatSlider(min=1, max=20, step=0.2, value=9.6, continuous_update=False)\n",
    "rm_slider = widgets.FloatSlider(min=1, max=20, step=0.2, value=10, continuous_update=False)\n",
    "tau_inh_slider = widgets.IntSlider(min=1, max=50, step=2, value=10, continuous_update=False)\n",
    "speed_idx_slider = widgets.IntSlider(min=0, max=5, step=1, value=2, continuous_update=False)\n",
    "plotgroup = interactive(plot_trial, exc_scale=exc_scale_slider, inh_scale=inh_scale_slider, r_m=rm_slider,\n",
    "                        tau_inh=tau_inh_slider, speed_idx=speed_idx_slider)\n",
    "\n",
    "# refresh button\n",
    "button = widgets.Button(description='Refresh')\n",
    "def on_button_clicked(b):\n",
    "    plotgroup.update()\n",
    "button.on_click(on_button_clicked)\n",
    "\n",
    "# combine sliders and button\n",
    "allgroups = HBox(children=[plotgroup, button])"
   ]
  },
  {
   "cell_type": "code",
   "execution_count": 6,
   "metadata": {},
   "outputs": [
    {
     "data": {
      "application/vnd.jupyter.widget-view+json": {
       "model_id": "2a26340672eb4a8dbe10ad3e6036a916",
       "version_major": 2,
       "version_minor": 0
      },
      "text/plain": [
       "A Jupyter Widget"
      ]
     },
     "metadata": {},
     "output_type": "display_data"
    }
   ],
   "source": [
    "allgroups"
   ]
  },
  {
   "cell_type": "markdown",
   "metadata": {},
   "source": [
    "## One parameter set example"
   ]
  },
  {
   "cell_type": "code",
   "execution_count": 18,
   "metadata": {
    "scrolled": false
   },
   "outputs": [
    {
     "name": "stdout",
     "output_type": "stream",
     "text": [
      "Mean visual angle: 84.024580217\n",
      "Mean distance: 10.882924589\n",
      "Mean reaction time: 3.545085\n",
      "resp in ttc: -0.36\n"
     ]
    },
    {
     "data": {
      "image/png": "[encoded data removed]",
      "text/plain": [
       "<matplotlib.figure.Figure at 0x7f26a4e289e8>"
      ]
     },
     "metadata": {},
     "output_type": "display_data"
    },
    {
     "data": {
      "image/png": "[encoded data removed]",
      "text/plain": [
       "<matplotlib.figure.Figure at 0x7f26a4d74ac8>"
      ]
     },
     "metadata": {},
     "output_type": "display_data"
    },
    {
     "data": {
      "image/png": "[encoded data removed]",
      "text/plain": [
       "<matplotlib.figure.Figure at 0x7f26a4d386a0>"
      ]
     },
     "metadata": {},
     "output_type": "display_data"
    },
    {
     "data": {
      "image/png": "[encoded data removed]",
      "text/plain": [
       "<matplotlib.figure.Figure at 0x7f26a4d15978>"
      ]
     },
     "metadata": {},
     "output_type": "display_data"
    }
   ],
   "source": [
    "total_time = 5\n",
    "dt = 0.005\n",
    "\n",
    "params = {'tau_m': 0.023,\n",
    "          'e_l': -0.079,\n",
    "          'r_m': 10*1e6,\n",
    "          'v_t': -0.061,\n",
    "          'init_vm_std': 0.001,\n",
    "          'vt_std': 0.004,\n",
    "          'rho_null': 0.00,\n",
    "          'tau_inh': 0.010,\n",
    "          'rho_scale': 7.6*1e6,\n",
    "          'dt': dt,\n",
    "          'total_time': total_time,\n",
    "          'init_period': 2,\n",
    "          'noise_std_exc': 5*1e-3,\n",
    "          'noise_std_inh': 5*1e-3,\n",
    "          'n_timepoints': int(total_time/dt),\n",
    "          'cutoff_angle': 150,\n",
    "          'm': 5,\n",
    "          'b': 5}\n",
    "\n",
    "nruns = 1000\n",
    "rstims = np.zeros(nruns)\n",
    "rdists = np.zeros(nruns)\n",
    "reaction_times = np.zeros(nruns)\n",
    "speeds = np.zeros(nruns)\n",
    "for i in np.arange(nruns):\n",
    "    rstims[i], rdists[i], reaction_times[i], lv, stim_size, speeds[i], resp_in_t_to_coll = calc_response(params)\n",
    "\n",
    "sns.set()\n",
    "sns.distplot(rstims)\n",
    "print('Mean visual angle: ' + str(np.mean(rstims)))\n",
    "plt.figure()\n",
    "sns.distplot(rdists)\n",
    "print('Mean distance: ' + str(np.mean(rdists)))\n",
    "plt.figure()\n",
    "sns.distplot(reaction_times)\n",
    "plt.figure()\n",
    "sns.distplot(speeds)\n",
    "print('Mean reaction time: ' + str(np.mean(reaction_times)))\n",
    "print('resp in ttc: ' + str(resp_in_t_to_coll))"
   ]
  },
  {
   "cell_type": "code",
   "execution_count": null,
   "metadata": {
    "collapsed": true
   },
   "outputs": [],
   "source": []
  }
 ],
 "metadata": {
  "kernelspec": {
   "display_name": "Python [default]",
   "language": "python",
   "name": "python3"
  },
  "language_info": {
   "codemirror_mode": {
    "name": "ipython",
    "version": 3
   },
   "file_extension": ".py",
   "mimetype": "text/x-python",
   "name": "python",
   "nbconvert_exporter": "python",
   "pygments_lexer": "ipython3",
   "version": "3.6.3"
  },
  "toc": {
   "nav_menu": {},
   "number_sections": true,
   "sideBar": true,
   "skip_h1_title": false,
   "title_cell": "Table of Contents",
   "title_sidebar": "Contents",
   "toc_cell": false,
   "toc_position": {},
   "toc_section_display": true,
   "toc_window_display": false
  },
  "varInspector": {
   "cols": {
    "lenName": 16,
    "lenType": 16,
    "lenVar": 40
   },
   "kernels_config": {
    "python": {
     "delete_cmd_postfix": "",
     "delete_cmd_prefix": "del ",
     "library": "var_list.py",
     "varRefreshCmd": "print(var_dic_list())"
    },
    "r": {
     "delete_cmd_postfix": ") ",
     "delete_cmd_prefix": "rm(",
     "library": "var_list.r",
     "varRefreshCmd": "cat(var_dic_list()) "
    }
   },
   "types_to_exclude": [
    "module",
    "function",
    "builtin_function_or_method",
    "instance",
    "_Feature"
   ],
   "window_display": false
  }
 },
 "nbformat": 4,
 "nbformat_minor": 2
}
