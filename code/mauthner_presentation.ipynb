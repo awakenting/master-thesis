{
 "cells": [
  {
   "cell_type": "markdown",
   "metadata": {
    "nbpresent": {
     "id": "cedb7cbc-0ae6-435a-833e-eb2d27215df8"
    },
    "slideshow": {
     "slide_type": "slide"
    }
   },
   "source": [
    "<h1 style=\"text-align:center;\">The Mauthner cell system</h1>\n",
    "<br />\n",
    "<br />\n",
    "<center>\n",
    "Andrej Warkentin<br />\n",
    "Mexico retreat<br />\n",
    "18.12.2017<br />\n",
    "</center> "
   ]
  },
  {
   "cell_type": "code",
   "execution_count": 1,
   "metadata": {
    "slideshow": {
     "slide_type": "skip"
    }
   },
   "outputs": [
    {
     "data": {
      "text/html": [
       "<style>\n",
       ".example\n",
       "{\n",
       "    float:left;\n",
       "    width: 33%;\n",
       "    height: 80%;\n",
       "    text-align: center;\n",
       "}\n",
       ".example > ul {\n",
       "    text-align: left;\n",
       "    list-style-position: inside;\n",
       "}\n",
       ".halfdiv\n",
       "{\n",
       "    float:left;\n",
       "    width: 50%;\n",
       "    height: 80%;\n",
       "    text-align: center;\n",
       "}\n",
       ".halfdiv > ul {\n",
       "    text-align: left;\n",
       "    list-style-position: inside;\n",
       "}\n",
       "</style>"
      ],
      "text/plain": [
       "<IPython.core.display.HTML object>"
      ]
     },
     "metadata": {},
     "output_type": "display_data"
    }
   ],
   "source": [
    "%%html\n",
    "<style>\n",
    ".example\n",
    "{\n",
    "    float:left;\n",
    "    width: 33%;\n",
    "    height: 80%;\n",
    "    text-align: center;\n",
    "}\n",
    ".example > ul {\n",
    "    text-align: left;\n",
    "    list-style-position: inside;\n",
    "}\n",
    ".halfdiv\n",
    "{\n",
    "    float:left;\n",
    "    width: 50%;\n",
    "    height: 80%;\n",
    "    text-align: center;\n",
    "}\n",
    ".halfdiv > ul {\n",
    "    text-align: left;\n",
    "    list-style-position: inside;\n",
    "}\n",
    "</style>"
   ]
  },
  {
   "cell_type": "markdown",
   "metadata": {
    "slideshow": {
     "slide_type": "slide"
    }
   },
   "source": [
    "## Outline\n",
    "\n",
    "- Discovery\n",
    "- Anatomy & Physiology\n",
    "- Removal\n",
    "- Summary"
   ]
  },
  {
   "cell_type": "markdown",
   "metadata": {
    "slideshow": {
     "slide_type": "slide"
    }
   },
   "source": [
    "## Discovery by Mauthner 1859\n",
    "### species: pike\n",
    "<br />\n",
    "<br />\n",
    "<br />\n",
    "<center>\n",
    "    “a colossal myelinated neuronal fiber which goes throughout the whole spine”\n",
    "    <img src=\"../figures/mauthner_quote_marked.jpg\">\n",
    "    <p style=\"font-size:10pt;text-align: center\">Fun fact: Darwins “On the Origin of Species by Means of Natural Selection, or the Preservation of Favoured Races in the Struggle for Life” was also published in 1859.</p>\n",
    "</center>\n"
   ]
  },
  {
   "cell_type": "markdown",
   "metadata": {
    "slideshow": {
     "slide_type": "slide"
    }
   },
   "source": [
    "## Anatomy & Physiology\n",
    "### Reminder: A typical (pyramidal) neuron\n",
    "<center>\n",
    "    <div class=\"halfdiv\">\n",
    "        <img src=\"../figures/neuron.jpg\">\n",
    "    </div>\n",
    "    <div class=\"halfdiv\">\n",
    "        <img src=\"../figures/synapse.jpg\">\n",
    "    </div>\n",
    "</center>\n",
    "\n",
    "\n",
    "From: Bear et. al, Neuroscience - Exploring the Brain"
   ]
  },
  {
   "cell_type": "markdown",
   "metadata": {
    "slideshow": {
     "slide_type": "slide"
    }
   },
   "source": [
    "## Anatomy & Physiology\n",
    "### Anatomical location\n",
    "<center>\n",
    "    <img src=\"../figures/mauthner_compare.jpg\">\n",
    "    Pereda and Faber 2011\n",
    "</center>"
   ]
  },
  {
   "cell_type": "markdown",
   "metadata": {
    "slideshow": {
     "slide_type": "slide"
    }
   },
   "source": [
    "## Anatomy & Physiology\n",
    "### But they are not alone:\n",
    "<center>\n",
    "    <img src=\"../figures/reticulo_neurons.png\">\n",
    "    Korn and Faber 2005\n",
    "</center>"
   ]
  },
  {
   "cell_type": "markdown",
   "metadata": {
    "slideshow": {
     "slide_type": "slide"
    }
   },
   "source": [
    "## Anatomy & Physiology\n",
    "### Inputs\n",
    "<center>\n",
    "    <img src=\"../figures/mauthner_system.jpg\">\n",
    "    Pfaff et. al 2012\n",
    "</center>"
   ]
  },
  {
   "cell_type": "markdown",
   "metadata": {
    "slideshow": {
     "slide_type": "slide"
    }
   },
   "source": [
    "## Anatomy & Physiology\n",
    "### Output\n",
    "<center>\n",
    "    <img src=\"../figures/motoneurons.jpg\">\n",
    "    Song et. al 2015\n",
    "</center>"
   ]
  },
  {
   "cell_type": "markdown",
   "metadata": {
    "slideshow": {
     "slide_type": "slide"
    }
   },
   "source": [
    "## Effect of removal\n",
    "### of the Mauthner cell to looming stimulus experiment\n",
    "<center>\n",
    "    <video controls src=\"../videos/looming_stim.mp4\" />\n",
    "</center>\n",
    "\n",
    "\n",
    "Dunn et. al 2015"
   ]
  },
  {
   "cell_type": "markdown",
   "metadata": {
    "slideshow": {
     "slide_type": "slide"
    }
   },
   "source": [
    "## Effect of removal\n",
    "### of the Mauthner cell to looming stimulus experiment\n",
    "<center>\n",
    "        <img src=\"../figures/loom_normal.jpg\">\n",
    "</center>\n",
    "\n",
    "\n",
    "\n",
    "Dunn et. al 2015"
   ]
  },
  {
   "cell_type": "markdown",
   "metadata": {
    "slideshow": {
     "slide_type": "slide"
    }
   },
   "source": [
    "## Effect of removal\n",
    "### of the Mauthner cell to looming stimulus experiment\n",
    "<center>\n",
    "    <div class=\"halfdiv\">\n",
    "        <img src=\"../figures/loom_ablated.jpg\">\n",
    "    </div>\n",
    "    <div class=\"halfdiv\">\n",
    "        <img src=\"../figures/loom_ablated2.jpg\">\n",
    "    </div>\n",
    "</center>\n",
    "\n",
    "\n",
    "Dunn et. al 2015"
   ]
  },
  {
   "cell_type": "markdown",
   "metadata": {
    "slideshow": {
     "slide_type": "slide"
    }
   },
   "source": [
    "## Effect of removal\n",
    "### of the mauthner and spiral fiber neurons\n",
    "<center>\n",
    "    <div class=\"halfdiv\">\n",
    "        <img src=\"../figures/sfn_model.jpg\">\n",
    "    </div>\n",
    "    <div class=\"halfdiv\">\n",
    "        <img src=\"../figures/sfn_exp.jpg\">\n",
    "    </div>\n",
    "</center>\n",
    "\n",
    "\n",
    "Lacoste et. al 2015"
   ]
  },
  {
   "cell_type": "markdown",
   "metadata": {
    "slideshow": {
     "slide_type": "slide"
    }
   },
   "source": [
    "## Summary\n",
    "\n",
    "- a pair of giant neurons with multisensory input provided via two dendritic branches\n",
    "- auditory input leads to short-latency escapes of 5-15 ms\n",
    "- visual input is first preprocessed and leads to long latency escapes of severeal hundred ms\n",
    "- output goes to distinct fast motoneurons and inhibits normal swimming\n",
    "- ablation of M-cells reduces angle away from stimulus and increases latency\n",
    "- ablation of spiral fiber neurons increases latency as well"
   ]
  },
  {
   "cell_type": "markdown",
   "metadata": {
    "slideshow": {
     "slide_type": "slide"
    }
   },
   "source": [
    "# Thanks\n",
    "\n",
    "# Questions ?"
   ]
  }
 ],
 "metadata": {
  "celltoolbar": "Slideshow",
  "kernelspec": {
   "display_name": "Python [default]",
   "language": "python",
   "name": "python3"
  },
  "language_info": {
   "codemirror_mode": {
    "name": "ipython",
    "version": 3
   },
   "file_extension": ".py",
   "mimetype": "text/x-python",
   "name": "python",
   "nbconvert_exporter": "python",
   "pygments_lexer": "ipython3",
   "version": "3.6.3"
  },
  "nbpresent": {
   "slides": {
    "9170f04d-4ede-4a07-b56d-93dd5160038f": {
     "id": "9170f04d-4ede-4a07-b56d-93dd5160038f",
     "prev": null,
     "regions": {
      "10c5883a-7c79-4f96-9140-3bd7491170dc": {
       "attrs": {
        "height": 1,
        "width": 1,
        "x": 0,
        "y": 0
       },
       "content": {
        "cell": "cedb7cbc-0ae6-435a-833e-eb2d27215df8",
        "part": "source"
       },
       "id": "10c5883a-7c79-4f96-9140-3bd7491170dc"
      }
     }
    }
   },
   "themes": {}
  },
  "toc": {
   "nav_menu": {},
   "number_sections": true,
   "sideBar": true,
   "skip_h1_title": false,
   "title_cell": "Table of Contents",
   "title_sidebar": "Contents",
   "toc_cell": false,
   "toc_position": {},
   "toc_section_display": true,
   "toc_window_display": false
  },
  "varInspector": {
   "cols": {
    "lenName": 16,
    "lenType": 16,
    "lenVar": 40
   },
   "kernels_config": {
    "python": {
     "delete_cmd_postfix": "",
     "delete_cmd_prefix": "del ",
     "library": "var_list.py",
     "varRefreshCmd": "print(var_dic_list())"
    },
    "r": {
     "delete_cmd_postfix": ") ",
     "delete_cmd_prefix": "rm(",
     "library": "var_list.r",
     "varRefreshCmd": "cat(var_dic_list()) "
    }
   },
   "types_to_exclude": [
    "module",
    "function",
    "builtin_function_or_method",
    "instance",
    "_Feature"
   ],
   "window_display": false
  }
 },
 "nbformat": 4,
 "nbformat_minor": 2
}
