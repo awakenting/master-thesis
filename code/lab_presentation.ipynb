{
 "cells": [
  {
   "cell_type": "markdown",
   "metadata": {
    "nbpresent": {
     "id": "cedb7cbc-0ae6-435a-833e-eb2d27215df8"
    }
   },
   "source": [
    "\n",
    "\n",
    "<h1 style=\"text-align:center;\">A Neuronal Model for the Startle Response in Fish schools</h1>\n",
    "<br />\n",
    "<br />\n",
    "<center>\n",
    "Andrej Warkentin<br />\n",
    "Supervisor: Pawel Romanczuk<br />\n",
    "Lab rotation presentation<br />\n",
    "30.11.2017<br />\n",
    "</center> "
   ]
  },
  {
   "cell_type": "code",
   "execution_count": 1,
   "metadata": {
    "slideshow": {
     "slide_type": "skip"
    }
   },
   "outputs": [
    {
     "data": {
      "text/html": [
       "<style>\n",
       ".example\n",
       "{\n",
       "    float:left;\n",
       "    width: 33%;\n",
       "    height: 80%;\n",
       "    text-align: center;\n",
       "}\n",
       ".example > ul {\n",
       "    text-align: left;\n",
       "    list-style-position: inside;\n",
       "}\n",
       ".halfdiv\n",
       "{\n",
       "    float:left;\n",
       "    width: 50%;\n",
       "    height: 80%;\n",
       "    text-align: center;\n",
       "}\n",
       ".halfdiv > ul {\n",
       "    text-align: left;\n",
       "    list-style-position: inside;\n",
       "}\n",
       "</style>"
      ],
      "text/plain": [
       "<IPython.core.display.HTML object>"
      ]
     },
     "metadata": {},
     "output_type": "display_data"
    }
   ],
   "source": [
    "%%html\n",
    "<style>\n",
    ".example\n",
    "{\n",
    "    float:left;\n",
    "    width: 33%;\n",
    "    height: 80%;\n",
    "    text-align: center;\n",
    "}\n",
    ".example > ul {\n",
    "    text-align: left;\n",
    "    list-style-position: inside;\n",
    "}\n",
    ".halfdiv\n",
    "{\n",
    "    float:left;\n",
    "    width: 50%;\n",
    "    height: 80%;\n",
    "    text-align: center;\n",
    "}\n",
    ".halfdiv > ul {\n",
    "    text-align: left;\n",
    "    list-style-position: inside;\n",
    "}\n",
    "</style>"
   ]
  },
  {
   "cell_type": "markdown",
   "metadata": {
    "slideshow": {
     "slide_type": "slide"
    }
   },
   "source": [
    "## Outline\n",
    "\n",
    "- Background\n",
    "    - Models of collective behavior\n",
    "    - Startling\n",
    "    - Mauthner cell system\n",
    "    - Leaky Integrate-and-Fire (LIF) Model \n",
    "- Our Model\n",
    "    - Collective behavior model\n",
    "    - Startling model\n",
    "- Result\n",
    "    - Prey vs. Predator\n",
    "    - Startling in a fish school\n",
    "- Summary and Outlook"
   ]
  },
  {
   "cell_type": "markdown",
   "metadata": {
    "slideshow": {
     "slide_type": "slide"
    }
   },
   "source": [
    "## Background - Models of collective behavior\n",
    "\n",
    "- agent-based\n",
    "- social interactions with different ranges:<br />\n",
    "\n",
    "<center>\n",
    "    <div class=\"example\">\n",
    "    <center>\n",
    "        repulsion<br />\n",
    "        <img src=\"../figures/repulsion.png\"/>\n",
    "    </center> \n",
    "    </div>\n",
    "    <div class=\"example\">\n",
    "    <center>\n",
    "        alignment<br />\n",
    "        <img src=\"../figures/alignment.png\"/>\n",
    "    </center>\n",
    "    </div>\n",
    "    <div class=\"example\">\n",
    "    <center>\n",
    "        attraction<br />\n",
    "        <img src=\"../figures/attraction.png\">\n",
    "    <center>\n",
    "    </div>\n",
    "</center>"
   ]
  },
  {
   "cell_type": "markdown",
   "metadata": {
    "slideshow": {
     "slide_type": "subslide"
    }
   },
   "source": [
    "## Background - Models of collective behavior\n",
    "\n",
    "- interaction types\n",
    "<br />\n",
    "<center>\n",
    "    <div class=\"halfdiv\">\n",
    "        metric<br />\n",
    "        <img src=\"../figures/metric.png\">\n",
    "    </div>\n",
    "    <div class=\"halfdiv\">\n",
    "        topological<br />\n",
    "        <img src=\"../figures/topo.png\">\n",
    "    </div>\n",
    "</center>"
   ]
  },
  {
   "cell_type": "markdown",
   "metadata": {
    "slideshow": {
     "slide_type": "subslide"
    }
   },
   "source": [
    "## Background - Models of collective behavior\n",
    "\n",
    "<center>\n",
    "    <img src=\"../figures/couzin.jpg\">\n",
    "    Couzin et. al 2002\n",
    "</center>"
   ]
  },
  {
   "cell_type": "markdown",
   "metadata": {
    "slideshow": {
     "slide_type": "subslide"
    }
   },
   "source": [
    "## Background - Startling\n",
    "\n",
    "### Specific behavior for fish: The C-start\n",
    "<center>\n",
    "    <img src=\"../figures/cstart.jpg\">\n",
    "    Tytell and Lauder 2008\n",
    "</center>\n"
   ]
  },
  {
   "cell_type": "markdown",
   "metadata": {
    "slideshow": {
     "slide_type": "subslide"
    }
   },
   "source": [
    "## Background - Startling\n",
    "\n",
    "### In real life:\n",
    "<center>\n",
    "    <img src=\"../figures/fish_school_predator.jpg\">\n",
    "</center>"
   ]
  },
  {
   "cell_type": "markdown",
   "metadata": {
    "slideshow": {
     "slide_type": "subslide"
    }
   },
   "source": [
    "## Background - Startling\n",
    "\n",
    "### In the experiment\n",
    "<br />\n",
    "<center>\n",
    "    <video controls src=\"../videos/pnas.1420068112.sm01.mp4\" />\n",
    "</center>\n"
   ]
  },
  {
   "cell_type": "markdown",
   "metadata": {
    "slideshow": {
     "slide_type": "subslide"
    }
   },
   "source": [
    "<h2 style=\"text-align:center;\">How does startling work on the neuronal level?</h2>"
   ]
  },
  {
   "cell_type": "markdown",
   "metadata": {
    "slideshow": {
     "slide_type": "subslide"
    }
   },
   "source": [
    "## Background - Mauthner cell system\n",
    "<br />\n",
    "<br />\n",
    "<br />\n",
    "<center>\n",
    "    Mauthner 1859:<br />\n",
    "    “a colossal myelinated neuronal fiber which goes throughout the whole spine”\n",
    "    <img src=\"../figures/mauthner_quote_marked.jpg\">\n",
    "    <p style=\"font-size:10pt;text-align: center\">Fun fact: Darwins “On the Origin of Species by Means of Natural Selection, or the Preservation of Favoured Races in the Struggle for Life” was also published in 1859.</p>\n",
    "</center>\n"
   ]
  },
  {
   "cell_type": "markdown",
   "metadata": {
    "slideshow": {
     "slide_type": "subslide"
    }
   },
   "source": [
    "## Background - Mauthner cell system\n",
    "<br />\n",
    "<br />\n",
    "<br />\n",
    "<center>\n",
    "    <div class=\"example\">\n",
    "    <center>\n",
    "        anatomical<br />\n",
    "        <img src=\"../figures/mauthner_slice.jpg\">\n",
    "        Zottoli and Faber 2000\n",
    "    </center> \n",
    "    </div>\n",
    "    <div class=\"example\">\n",
    "        anatomical location<br />\n",
    "        <img src=\"../figures/mauthner_compare.jpg\">\n",
    "        Pereda and Faber 2011\n",
    "    </div>\n",
    "    <div class=\"example\">\n",
    "        system<br />\n",
    "        <img src=\"../figures/mauthner_system.jpg\">\n",
    "        Pfaff et. al 2012\n",
    "    </div>\n",
    "</center>"
   ]
  },
  {
   "cell_type": "markdown",
   "metadata": {
    "slideshow": {
     "slide_type": "subslide"
    }
   },
   "source": [
    "<h2 style=\"text-align:center;\">How can we model this?</h2>"
   ]
  },
  {
   "cell_type": "markdown",
   "metadata": {
    "slideshow": {
     "slide_type": "subslide"
    }
   },
   "source": [
    "## Background - Leaky Integrate-and-Fire Model\n",
    "<br />\n",
    "### Traditional formulation:\n",
    "$$\\tau_m\\frac{dV}{dt} = -(V(t)-E_{L}) + R_mI(t)$$\n",
    "### Our model\n",
    "$$\\frac{dV}{dt} = -\\gamma V + c_{vis}\\frac{v_{rel}}{D^{\\beta}} + \\eta _m$$\n",
    "<br />\n",
    "### Example voltage traces :\n",
    "<center>\n",
    "    for constant (A) and time-dependent (B) input current:<br />\n",
    "    <img src=\"../figures/lif_input.png\">\n",
    "    Wulfram Gerstner et. al Neuronal Dynamics\n",
    "</center>"
   ]
  },
  {
   "cell_type": "markdown",
   "metadata": {
    "slideshow": {
     "slide_type": "slide"
    }
   },
   "source": [
    "## Our Model\n",
    "<br />\n",
    "### Agent-based + Social interactions + Startling by LIF\n",
    "\n",
    "### Input for LIF: Relative velocity over Distance\n",
    "$$\\frac{dV}{dt} = -\\gamma V + c_{vis}\\frac{v_{rel}}{D^{\\beta}} + \\eta _m$$\n",
    "\n",
    "### Simulation protocol:\n",
    "1. determine neighbours\n",
    "2. compute social forces\n",
    "3. update startle potential of LIF\n",
    "4. if startle potential > threshold: replace total social with startle force\n",
    "5. startle force: fixed strength + random direction on half-circle away from stimulus\n",
    "6. compute velocity change from resulting force (either total social force or startle)\n",
    "7. update coordinates of agents\n",
    "    - if agent hits boundary: remove vector part that goes into the wall\n",
    "    - if agent hits corner: turn around"
   ]
  },
  {
   "cell_type": "markdown",
   "metadata": {
    "slideshow": {
     "slide_type": "slide"
    }
   },
   "source": [
    "## Results - Prey vs. Predator\n",
    "<br />\n",
    "### Situation: One stationary agent (prey) which is approached by another agent (predator)\n",
    "### Reaction distance vs. predator speed: power law ?\n",
    "<center>\n",
    "    <img width=\"800\" height=\"800\" src=\"../figures/lif_neuron_reaction_distance_varying_gammas_with_equ.png\">\n",
    "</center>"
   ]
  },
  {
   "cell_type": "markdown",
   "metadata": {
    "slideshow": {
     "slide_type": "subslide"
    }
   },
   "source": [
    "## Results - Startling in Fish Schools\n",
    "<br />\n",
    "<center>\n",
    "    <img src=\"../figures/metric_vs_voronoi_measures_dist1.png\">\n",
    "</center>"
   ]
  },
  {
   "cell_type": "markdown",
   "metadata": {
    "slideshow": {
     "slide_type": "subslide"
    }
   },
   "source": [
    "## Results - Startling in Fish Schools\n",
    "<br />\n",
    "<center>\n",
    "    <div class=\"halfdiv\">\n",
    "        single simulation<br />\n",
    "        <video controls src=\"../videos/firing_map_test.mp4\" />\n",
    "    </div>\n",
    "    <div class=\"halfdiv\">\n",
    "        Polarization vs. Startling rate<br />\n",
    "        <img src=\"../figures/pol_corr_comparison_voronoi.svg\">\n",
    "    </div>\n",
    "</center>\n"
   ]
  },
  {
   "cell_type": "markdown",
   "metadata": {
    "slideshow": {
     "slide_type": "slide"
    }
   },
   "source": [
    "## Summary\n",
    "\n",
    "- analyzed reaction distance and found deviation from power law\n",
    "- coupled neuronal startling model with behavioral model\n",
    "- found first phenomena that can be tested in experiments"
   ]
  },
  {
   "cell_type": "markdown",
   "metadata": {
    "slideshow": {
     "slide_type": "slide"
    }
   },
   "source": [
    "<h2>Outlook</h2> \n",
    "\n",
    "<center>\n",
    "    <div class=\"halfdiv\">\n",
    "        <ul>\n",
    "            <li>extend neuronal model</li>\n",
    "                <ul>\n",
    "                    <li>2 neurons</li>\n",
    "                    <li>cross-inhibition</li>\n",
    "                    <li>neuronal model for input processing</li>\n",
    "                    <li>multisensory input</li>\n",
    "                    <li>plasticity</li>\n",
    "                </ul>\n",
    "            <li>behavioral model</li>\n",
    "                <ul>\n",
    "                    <li>use more realistic visual input -> raycasting\n",
    "                    <li>3D ?\n",
    "                    <li>speed adaptation\n",
    "                    <li>different boundary interaction\n",
    "                    <li>separate neighborhood type for social forces and startling\n",
    "                    <li>how would this school react to a predator ?\n",
    "                </ul>\n",
    "        </ul>\n",
    "    </div>\n",
    "    <div class=\"halfdiv\">\n",
    "        <img width=\"400\" height=\"400\" src=\"../figures/fish_outlook.jpg\">\n",
    "    </div>\n",
    "</center>"
   ]
  },
  {
   "cell_type": "markdown",
   "metadata": {
    "slideshow": {
     "slide_type": "slide"
    }
   },
   "source": [
    "# Thanks\n",
    "\n",
    "<center>\n",
    "    <div class=\"example\">\n",
    "        <h2 style=\"text-align:center;\">Collective Information Processing group:</h2>\n",
    "        <ul>\n",
    "            <li>Pawel</li>\n",
    "            <li>Haider</li>\n",
    "            <li>Pascal</li>\n",
    "            <li>Parisa</li>\n",
    "            <li>Raquel</li>\n",
    "            <li>Yinong</li>\n",
    "        </ul>\n",
    "    </div>\n",
    "    <div class=\"example\">\n",
    "        <h2 style=\"text-align:center;\">Open source software:</h2>\n",
    "        <ul>\n",
    "            <li>Numpy</li>\n",
    "            <li>Scipy</li>\n",
    "            <li>Sklearn</li>\n",
    "            <li>Matplotlib</li>\n",
    "            <li>Seaborn</li>\n",
    "            <li>Ipython</li>\n",
    "            <li>Jupyter Notebook</li>\n",
    "            <li>Pypet (https://pypet.readthedocs.io/en/latest/)</li>\n",
    "        </ul>\n",
    "    </div>\n",
    "    <div class=\"example\">\n",
    "        <h2 style=\"text-align:center;\">Tools for this presentation:</h2>\n",
    "        <ul>\n",
    "            <li>Jupyter Notebook</li>\n",
    "            <li>RISE (https://github.com/damianavila/RISE)</li>\n",
    "            <li>Fish Icon by Marco Ricci from the Noun Project</li>\n",
    "        </ul>\n",
    "    </div>\n",
    "</center>"
   ]
  }
 ],
 "metadata": {
  "celltoolbar": "Slideshow",
  "kernelspec": {
   "display_name": "Python [default]",
   "language": "python",
   "name": "python3"
  },
  "language_info": {
   "codemirror_mode": {
    "name": "ipython",
    "version": 3
   },
   "file_extension": ".py",
   "mimetype": "text/x-python",
   "name": "python",
   "nbconvert_exporter": "python",
   "pygments_lexer": "ipython3",
   "version": "3.6.3"
  },
  "nbpresent": {
   "slides": {
    "9170f04d-4ede-4a07-b56d-93dd5160038f": {
     "id": "9170f04d-4ede-4a07-b56d-93dd5160038f",
     "prev": null,
     "regions": {
      "10c5883a-7c79-4f96-9140-3bd7491170dc": {
       "attrs": {
        "height": 1,
        "width": 1,
        "x": 0,
        "y": 0
       },
       "content": {
        "cell": "cedb7cbc-0ae6-435a-833e-eb2d27215df8",
        "part": "source"
       },
       "id": "10c5883a-7c79-4f96-9140-3bd7491170dc"
      }
     }
    }
   },
   "themes": {}
  },
  "toc": {
   "nav_menu": {},
   "number_sections": true,
   "sideBar": true,
   "skip_h1_title": false,
   "title_cell": "Table of Contents",
   "title_sidebar": "Contents",
   "toc_cell": false,
   "toc_position": {},
   "toc_section_display": true,
   "toc_window_display": false
  },
  "varInspector": {
   "cols": {
    "lenName": 16,
    "lenType": 16,
    "lenVar": 40
   },
   "kernels_config": {
    "python": {
     "delete_cmd_postfix": "",
     "delete_cmd_prefix": "del ",
     "library": "var_list.py",
     "varRefreshCmd": "print(var_dic_list())"
    },
    "r": {
     "delete_cmd_postfix": ") ",
     "delete_cmd_prefix": "rm(",
     "library": "var_list.r",
     "varRefreshCmd": "cat(var_dic_list()) "
    }
   },
   "types_to_exclude": [
    "module",
    "function",
    "builtin_function_or_method",
    "instance",
    "_Feature"
   ],
   "window_display": false
  }
 },
 "nbformat": 4,
 "nbformat_minor": 2
}
