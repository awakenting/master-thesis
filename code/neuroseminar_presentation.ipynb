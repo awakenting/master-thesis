{
 "cells": [
  {
   "cell_type": "markdown",
   "metadata": {
    "nbpresent": {
     "id": "cedb7cbc-0ae6-435a-833e-eb2d27215df8"
    },
    "slideshow": {
     "slide_type": "slide"
    }
   },
   "source": [
    "<h1 style=\"text-align:center;\">A neuronal model for visually evoked startle response(s) in fish</h1>\n",
    "<br />\n",
    "<br />\n",
    "<center>\n",
    "Andrej Warkentin<br />\n",
    "Computational Neuroscience Meeting<br />\n",
    "21.03.2018<br />\n",
    "</center>"
   ]
  },
  {
   "cell_type": "code",
   "execution_count": 1,
   "metadata": {
    "slideshow": {
     "slide_type": "skip"
    }
   },
   "outputs": [
    {
     "data": {
      "text/html": [
       "<style>\n",
       ".example\n",
       "{\n",
       "    float:left;\n",
       "    width: 33%;\n",
       "    height: 80%;\n",
       "    text-align: center;\n",
       "}\n",
       ".example > ul {\n",
       "    text-align: left;\n",
       "    list-style-position: inside;\n",
       "}\n",
       ".halfdiv\n",
       "{\n",
       "    float:left;\n",
       "    width: 50%;\n",
       "    height: 80%;\n",
       "    text-align: center;\n",
       "}\n",
       ".halfdiv > ul {\n",
       "    text-align: left;\n",
       "    list-style-position: inside;\n",
       "}\n",
       ".quarterdiv\n",
       "{\n",
       "    float:left;\n",
       "    width: 50%;\n",
       "    height: 50%;\n",
       "    text-align: center;\n",
       "}\n",
       ".quarterdiv > ul {\n",
       "    text-align: left;\n",
       "    list-style-position: inside;\n",
       "}\n",
       "</style>"
      ],
      "text/plain": [
       "<IPython.core.display.HTML object>"
      ]
     },
     "metadata": {},
     "output_type": "display_data"
    }
   ],
   "source": [
    "%%html\n",
    "<style>\n",
    ".example\n",
    "{\n",
    "    float:left;\n",
    "    width: 33%;\n",
    "    height: 80%;\n",
    "    text-align: center;\n",
    "}\n",
    ".example > ul {\n",
    "    text-align: left;\n",
    "    list-style-position: inside;\n",
    "}\n",
    ".halfdiv\n",
    "{\n",
    "    float:left;\n",
    "    width: 50%;\n",
    "    height: 80%;\n",
    "    text-align: center;\n",
    "}\n",
    ".halfdiv > ul {\n",
    "    text-align: left;\n",
    "    list-style-position: inside;\n",
    "}\n",
    ".quarterdiv\n",
    "{\n",
    "    float:left;\n",
    "    width: 50%;\n",
    "    height: 50%;\n",
    "    text-align: center;\n",
    "}\n",
    ".quarterdiv > ul {\n",
    "    text-align: left;\n",
    "    list-style-position: inside;\n",
    "}\n",
    "</style>"
   ]
  },
  {
   "cell_type": "markdown",
   "metadata": {
    "slideshow": {
     "slide_type": "slide"
    }
   },
   "source": [
    "<h2 style=\"text-align:center;\">Why fish?</h2>\n",
    "<br />\n",
    "<br />\n",
    "<br />\n",
    "<span class=\"fragment fade-in\" data-fragment-index=\"1\">\n",
    "    <center>\n",
    "        <div class=\"example\">\n",
    "            <img src=\"../figures/fish_school_predator.jpg\">\n",
    "        </div>\n",
    "    </center>\n",
    "</span>\n",
    "<span class=\"fragment fade-in\" data-fragment-index=\"2\">\n",
    "    <center>\n",
    "        <div class=\"example\" data-fragment-index=\"2\">\n",
    "            <img src=\"../figures/zebrafish_wholebrain.jpg\">\n",
    "            Naumann et al. 2016\n",
    "        </div>\n",
    "    </center>\n",
    "</span>\n",
    "<span class=\"fragment fade-in\" data-fragment-index=\"3\">\n",
    "    <center>\n",
    "        <div class=\"example\">\n",
    "            <img src=\"../figures/zebrafish_projectome.jpg\">\n",
    "            Hildebrand et al. 2017\n",
    "        </div>\n",
    "    </center>\n",
    "</span>\n"
   ]
  },
  {
   "cell_type": "markdown",
   "metadata": {
    "slideshow": {
     "slide_type": "slide"
    }
   },
   "source": [
    "<h2 style=\"text-align:center;\">Startle Response?</h2>\n",
    "<span class=\"fragment fade-in\" data-fragment-index=\"1\">\n",
    "    <center>\n",
    "        <img src=\"../figures/cstart.jpg\">\n",
    "    </center>\n",
    "</span>"
   ]
  },
  {
   "cell_type": "markdown",
   "metadata": {
    "slideshow": {
     "slide_type": "subslide"
    }
   },
   "source": [
    "<h2 style=\"text-align:center;\">Startle Response?</h2>\n",
    "<span class=\"fragment fade-in\" data-fragment-index=\"1\">\n",
    "    <div class=\"halfdiv\">\n",
    "        <center>\n",
    "            <video controls src=\"../videos/looming_stim.mp4\">\n",
    "        </center>\n",
    "    </div>\n",
    "</span>\n",
    "<span class=\"fragment fade-in\" data-fragment-index=\"2\">\n",
    "    <div class=\"halfdiv\">\n",
    "        <center>\n",
    "            <video controls src=\"../videos/pnas.1420068112.sm01.mp4\" />\n",
    "            Rosenthal et al. 2015\n",
    "        </center>\n",
    "    </div>\n",
    "</span>\n"
   ]
  },
  {
   "cell_type": "markdown",
   "metadata": {
    "slideshow": {
     "slide_type": "slide"
    }
   },
   "source": [
    "<h2 style=\"text-align:center;\">What do we know about the neural substrate of this behavior?</h2>"
   ]
  },
  {
   "cell_type": "markdown",
   "metadata": {
    "slideshow": {
     "slide_type": "subslide"
    }
   },
   "source": [
    "## The Mauthner cell - discovery by Ludwig Mauthner in 1859\n",
    "### species: pike\n",
    "<br />\n",
    "<br />\n",
    "<br />\n",
    "<center>\n",
    "    “a colossal myelinated neuronal fiber which goes throughout the whole spine”\n",
    "    <img src=\"../figures/mauthner_quote_marked.jpg\">\n",
    "    <p style=\"font-size:10pt;text-align: center\">Fun fact: Darwins “On the Origin of Species by Means of Natural Selection, or the Preservation of Favoured Races in the Struggle for Life” was also published in 1859.</p>\n",
    "</center>\n"
   ]
  },
  {
   "cell_type": "markdown",
   "metadata": {
    "slideshow": {
     "slide_type": "subslide"
    }
   },
   "source": [
    "## Anatomy & Physiology\n",
    "### Anatomical location\n",
    "<center>\n",
    "    <img width=\"400\" height=\"400\" src=\"../figures/mauthner_compare.jpg\">\n",
    "    Pereda and Faber 2011\n",
    "</center>"
   ]
  },
  {
   "cell_type": "markdown",
   "metadata": {
    "slideshow": {
     "slide_type": "subslide"
    }
   },
   "source": [
    "## Anatomy & Physiology\n",
    "### Inputs\n",
    "<center>\n",
    "    <img src=\"../figures/mauthner_system.jpg\">\n",
    "    Pfaff et. al 2012\n",
    "</center>"
   ]
  },
  {
   "cell_type": "markdown",
   "metadata": {
    "slideshow": {
     "slide_type": "slide"
    }
   },
   "source": [
    "<h2 style=\"text-align:center;\">Visually evoked startle responses</h2>\n",
    "<span class=\"fragment fade-in\" data-fragment-index=\"1\">\n",
    "    <center>\n",
    "        <img src=\"../figures/bhattacharyya_exp.jpg\">\n",
    "        Bhattacharyya et al. 2017\n",
    "    </center>\n",
    "</span>"
   ]
  },
  {
   "cell_type": "markdown",
   "metadata": {
    "slideshow": {
     "slide_type": "subslide"
    }
   },
   "source": [
    "<h2 style=\"text-align:center;\">Experimental response properties</h2>\n",
    "<span class=\"fragment fade-in\" data-fragment-index=\"1\">\n",
    "    <div class=\"halfdiv\">\n",
    "        <center>\n",
    "            <img src=\"../figures/expm_react_distance.png\">\n",
    "            Bhattacharyya et al. 2017\n",
    "        </center>\n",
    "    </div>\n",
    "</span>\n",
    "<span class=\"fragment fade-in\" data-fragment-index=\"2\">\n",
    "    <div class=\"halfdiv\">\n",
    "        <center>\n",
    "            <img src=\"../figures/expm_latency.png\">\n",
    "            Bhattacharyya et al. 2017\n",
    "        </center>\n",
    "    </div>\n",
    "</span>"
   ]
  },
  {
   "cell_type": "markdown",
   "metadata": {
    "slideshow": {
     "slide_type": "subslide"
    }
   },
   "source": [
    "<h2 style=\"text-align:center;\">Experimental response properties</h2>\n",
    "<span class=\"fragment fade-in\" data-fragment-index=\"1\">\n",
    "    <div class=\"halfdiv\">\n",
    "        <center>\n",
    "            <img src=\"../figures/expm_theta.png\">\n",
    "            Bhattacharyya et al. 2017\n",
    "        </center>\n",
    "    </div>\n",
    "</span>\n",
    "<span class=\"fragment fade-in\" data-fragment-index=\"2\">\n",
    "    <div class=\"halfdiv\">\n",
    "        <center>\n",
    "            <img src=\"../figures/expm_theta_vs_lv.jpg\">\n",
    "            Bhattacharyya et al. 2017\n",
    "        </center>\n",
    "    </div>\n",
    "</span>"
   ]
  },
  {
   "cell_type": "markdown",
   "metadata": {
    "slideshow": {
     "slide_type": "slide"
    }
   },
   "source": [
    "<h2 style=\"text-align:center;\">Neuronal model</h2>\n",
    "<span class=\"fragment fade-in\" data-fragment-index=\"1\">\n",
    "    <div class=\"halfdiv\">\n",
    "        <center>\n",
    "            <img src=\"../figures/looming_sketch.png\">\n",
    "        </center>\n",
    "    </div>\n",
    "</span>\n",
    "<span class=\"fragment fade-in\" data-fragment-index=\"2\">\n",
    "    <div class=\"halfdiv\">\n",
    "        <center>\n",
    "            <img src=\"../figures/neuronal_model.png\">\n",
    "        </center>\n",
    "    </div>\n",
    "</span>"
   ]
  },
  {
   "cell_type": "markdown",
   "metadata": {
    "slideshow": {
     "slide_type": "subslide"
    }
   },
   "source": [
    "<h2 style=\"text-align:center;\">Neuronal model</h2>\n",
    "<br />\n",
    "<span class=\"fragment fade-in\" data-fragment-index=\"1\">\n",
    "    <h3 style=\"text-align:center;\">Input:</h2>\n",
    "    $$I(t) = f(\\theta (t))$$\n",
    "    $$\\theta (t) = 2\\cdot \\arctan(\\frac{L/2}{distance})$$\n",
    "</span>\n",
    "<span class=\"fragment fade-in\" data-fragment-index=\"2\">\n",
    "    <h3 style=\"text-align:center;\">Inhibitory population:</h2>\n",
    "    $$\\tau _{\\rho} \\frac{d\\rho}{dt} = - (\\rho(t) - \\rho_{0}) + a_{\\rho} I(t) + \\eta _{\\rho}(t)$$\n",
    "</span>\n",
    "<span class=\"fragment fade-in\" data-fragment-index=\"3\">\n",
    "    <h3 style=\"text-align:center;\">LIF for Mauthner cell:</h2>\n",
    "    $$\\tau _m \\frac{dV_m}{dt} = - (V(t) - E_{L}) + R_{m} I(t) - \\rho (t) +  \\eta _m (t)$$\n",
    "</span>\n",
    "<br />"
   ]
  },
  {
   "cell_type": "markdown",
   "metadata": {
    "slideshow": {
     "slide_type": "subslide"
    }
   },
   "source": [
    "<h2 style=\"text-align:center;\">Reproducing experimental results</h2>\n",
    "<span class=\"fragment fade-in\" data-fragment-index=\"1\">\n",
    "    <div class=\"halfdiv\">\n",
    "        <center>\n",
    "            <img src=\"../figures/expm_all.png\">\n",
    "        </center>\n",
    "    </div>\n",
    "</span>\n",
    "<span class=\"fragment fade-in\" data-fragment-index=\"2\">\n",
    "    <div class=\"halfdiv\">\n",
    "        <center>\n",
    "            <img src=\"../figures/model_all.png\">\n",
    "        </center>\n",
    "    </div>\n",
    "</span>"
   ]
  },
  {
   "cell_type": "markdown",
   "metadata": {
    "slideshow": {
     "slide_type": "slide"
    }
   },
   "source": [
    "## Summary\n",
    "\n",
    "- there is a well-studied neuronal circuit underlying startle responses in fish\n",
    "- using a strong asumption about the visual input we can reproduce experimental behavior with a simple neuronal model"
   ]
  },
  {
   "cell_type": "markdown",
   "metadata": {
    "slideshow": {
     "slide_type": "slide"
    }
   },
   "source": [
    "<h2>Further work</h2> \n",
    "<ul>\n",
    "    <li>2 neurons</li>\n",
    "    <li>cross-inhibition</li>\n",
    "    <li>neuronal model for input processing</li>\n",
    "    <li>multisensory input</li>\n",
    "    <li>dendritic processing</li>\n",
    "    <li>plasticity</li>\n",
    "</ul>"
   ]
  },
  {
   "cell_type": "markdown",
   "metadata": {
    "slideshow": {
     "slide_type": "slide"
    }
   },
   "source": [
    "# Thanks\n",
    "\n",
    "<center>\n",
    "    <div class=\"example\">\n",
    "        <h2 style=\"text-align:center;\">Collective Information Processing group:</h2>\n",
    "        <ul>\n",
    "            <li>Pawel</li>\n",
    "            <li>Haider</li>\n",
    "            <li>Pascal</li>\n",
    "            <li>Parisa</li>\n",
    "            <li>Yinong</li>\n",
    "            <li>Raquel</li>\n",
    "        </ul>\n",
    "    </div>\n",
    "    <div class=\"example\">\n",
    "        <h2 style=\"text-align:center;\">Open source software:</h2>\n",
    "        <ul>\n",
    "            <li>Numpy</li>\n",
    "            <li>Scipy</li>\n",
    "            <li>Sklearn</li>\n",
    "            <li>Matplotlib</li>\n",
    "            <li>Seaborn</li>\n",
    "            <li>Ipython</li>\n",
    "            <li>Jupyter Notebook</li>\n",
    "            <li>Pypet (https://pypet.readthedocs.io/en/latest/)</li>\n",
    "        </ul>\n",
    "    </div>\n",
    "    <div class=\"example\">\n",
    "        <h2 style=\"text-align:center;\">Tools for this presentation:</h2>\n",
    "        <ul>\n",
    "            <li>Jupyter Notebook</li>\n",
    "            <li>RISE (https://github.com/damianavila/RISE)</li>\n",
    "        </ul>\n",
    "    </div>\n",
    "</center>"
   ]
  },
  {
   "cell_type": "markdown",
   "metadata": {
    "slideshow": {
     "slide_type": "slide"
    }
   },
   "source": [
    "## Anatomy & Physiology\n",
    "### But they are not alone:\n",
    "<center>\n",
    "    <img src=\"../figures/reticulo_neurons.png\">\n",
    "    Korn and Faber 2005\n",
    "</center>"
   ]
  },
  {
   "cell_type": "markdown",
   "metadata": {
    "slideshow": {
     "slide_type": "slide"
    }
   },
   "source": [
    "## Effect of removal\n",
    "### of the Mauthner cell to looming stimulus experiment\n",
    "<center>\n",
    "        <img src=\"../figures/loom_normal.jpg\">\n",
    "</center>\n",
    "\n",
    "\n",
    "\n",
    "Dunn et. al 2015"
   ]
  },
  {
   "cell_type": "markdown",
   "metadata": {
    "slideshow": {
     "slide_type": "slide"
    }
   },
   "source": [
    "## Effect of removal\n",
    "### of the Mauthner cell to looming stimulus experiment\n",
    "<center>\n",
    "    <div class=\"halfdiv\">\n",
    "        <img src=\"../figures/loom_ablated.jpg\">\n",
    "    </div>\n",
    "    <div class=\"halfdiv\">\n",
    "        <img src=\"../figures/loom_ablated2.jpg\">\n",
    "    </div>\n",
    "</center>\n",
    "\n",
    "\n",
    "Dunn et. al 2015"
   ]
  },
  {
   "cell_type": "markdown",
   "metadata": {
    "slideshow": {
     "slide_type": "slide"
    }
   },
   "source": [
    "## Effect of removal\n",
    "### of the mauthner and spiral fiber neurons\n",
    "<center>\n",
    "    <div class=\"halfdiv\">\n",
    "        <img src=\"../figures/sfn_model.jpg\">\n",
    "    </div>\n",
    "    <div class=\"halfdiv\">\n",
    "        <img src=\"../figures/sfn_exp.jpg\">\n",
    "    </div>\n",
    "</center>\n",
    "\n",
    "\n",
    "Lacoste et. al 2015"
   ]
  }
 ],
 "metadata": {
  "celltoolbar": "Slideshow",
  "kernelspec": {
   "display_name": "Python [default]",
   "language": "python",
   "name": "python3"
  },
  "language_info": {
   "codemirror_mode": {
    "name": "ipython",
    "version": 3
   },
   "file_extension": ".py",
   "mimetype": "text/x-python",
   "name": "python",
   "nbconvert_exporter": "python",
   "pygments_lexer": "ipython3",
   "version": "3.6.5"
  },
  "livereveal": {},
  "nbpresent": {
   "slides": {
    "9170f04d-4ede-4a07-b56d-93dd5160038f": {
     "id": "9170f04d-4ede-4a07-b56d-93dd5160038f",
     "prev": null,
     "regions": {
      "10c5883a-7c79-4f96-9140-3bd7491170dc": {
       "attrs": {
        "height": 1,
        "width": 1,
        "x": 0,
        "y": 0
       },
       "content": {
        "cell": "cedb7cbc-0ae6-435a-833e-eb2d27215df8",
        "part": "source"
       },
       "id": "10c5883a-7c79-4f96-9140-3bd7491170dc"
      }
     }
    }
   },
   "themes": {}
  },
  "toc": {
   "nav_menu": {},
   "number_sections": true,
   "sideBar": true,
   "skip_h1_title": false,
   "title_cell": "Table of Contents",
   "title_sidebar": "Contents",
   "toc_cell": false,
   "toc_position": {},
   "toc_section_display": true,
   "toc_window_display": false
  },
  "varInspector": {
   "cols": {
    "lenName": 16,
    "lenType": 16,
    "lenVar": 40
   },
   "kernels_config": {
    "python": {
     "delete_cmd_postfix": "",
     "delete_cmd_prefix": "del ",
     "library": "var_list.py",
     "varRefreshCmd": "print(var_dic_list())"
    },
    "r": {
     "delete_cmd_postfix": ") ",
     "delete_cmd_prefix": "rm(",
     "library": "var_list.r",
     "varRefreshCmd": "cat(var_dic_list()) "
    }
   },
   "types_to_exclude": [
    "module",
    "function",
    "builtin_function_or_method",
    "instance",
    "_Feature"
   ],
   "window_display": false
  }
 },
 "nbformat": 4,
 "nbformat_minor": 2
}
