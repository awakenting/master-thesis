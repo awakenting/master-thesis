{
 "cells": [
  {
   "cell_type": "code",
   "execution_count": 1,
   "metadata": {
    "collapsed": true
   },
   "outputs": [],
   "source": [
    "import numpy as np"
   ]
  },
  {
   "cell_type": "markdown",
   "metadata": {},
   "source": [
    "## How to take the k biggest values along a given axis for a given matrix:"
   ]
  },
  {
   "cell_type": "code",
   "execution_count": 2,
   "metadata": {},
   "outputs": [
    {
     "name": "stdout",
     "output_type": "stream",
     "text": [
      "[[0.60080737 0.67869159 0.2950931  0.22690127 0.43422898]\n",
      " [0.82156904 0.72417623 0.60568798 0.46421807 0.78133806]\n",
      " [0.44970497 0.76147525 0.64039773 0.02456953 0.30827886]\n",
      " [0.56624744 0.77421173 0.7109107  0.19469638 0.00313829]\n",
      " [0.75471545 0.90058493 0.74241208 0.88063427 0.55420083]]\n",
      "[[1 0 4 2 3]\n",
      " [0 4 1 2 3]\n",
      " [1 2 0 4 3]\n",
      " [1 2 0 3 4]\n",
      " [1 3 0 2 4]]\n",
      "[[0]\n",
      " [1]\n",
      " [2]\n",
      " [3]\n",
      " [4]]\n",
      "[[0.67869159 0.60080737 0.43422898]\n",
      " [0.82156904 0.78133806 0.72417623]\n",
      " [0.76147525 0.64039773 0.44970497]\n",
      " [0.77421173 0.7109107  0.56624744]\n",
      " [0.90058493 0.88063427 0.75471545]]\n"
     ]
    }
   ],
   "source": [
    "x = np.random.rand(5, 5)\n",
    "print(x)\n",
    "a = np.argsort(x, axis=1)\n",
    "# argsort gives ascending order so we have to reverse the order\n",
    "a = a[:, -1::-1]\n",
    "print(a)\n",
    "# a contains only the indices along the second axis (the columns) but for integer indexing we also need the row indices:\n",
    "# they will be broadcasted so we need it to be 2D array\n",
    "rows = np.arange(5)[:, np.newaxis]\n",
    "print(rows)\n",
    "print(x[rows, a[:, 0:3]])"
   ]
  }
 ],
 "metadata": {
  "kernelspec": {
   "display_name": "Python [conda root]",
   "language": "python",
   "name": "conda-root-py"
  },
  "language_info": {
   "codemirror_mode": {
    "name": "ipython",
    "version": 3
   },
   "file_extension": ".py",
   "mimetype": "text/x-python",
   "name": "python",
   "nbconvert_exporter": "python",
   "pygments_lexer": "ipython3",
   "version": "3.6.3"
  },
  "varInspector": {
   "cols": {
    "lenName": 16,
    "lenType": 16,
    "lenVar": 40
   },
   "kernels_config": {
    "python": {
     "delete_cmd_postfix": "",
     "delete_cmd_prefix": "del ",
     "library": "var_list.py",
     "varRefreshCmd": "print(var_dic_list())"
    },
    "r": {
     "delete_cmd_postfix": ") ",
     "delete_cmd_prefix": "rm(",
     "library": "var_list.r",
     "varRefreshCmd": "cat(var_dic_list()) "
    }
   },
   "types_to_exclude": [
    "module",
    "function",
    "builtin_function_or_method",
    "instance",
    "_Feature"
   ],
   "window_display": false
  }
 },
 "nbformat": 4,
 "nbformat_minor": 2
}
